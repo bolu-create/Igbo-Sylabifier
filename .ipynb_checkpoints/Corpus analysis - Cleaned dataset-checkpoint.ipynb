{
 "cells": [
  {
   "cell_type": "code",
   "execution_count": 1,
   "metadata": {},
   "outputs": [
    {
     "data": {
      "image/png": "[encoded data removed]",
      "text/plain": [
       "<Figure size 432x288 with 1 Axes>"
      ]
     },
     "metadata": {
      "needs_background": "light"
     },
     "output_type": "display_data"
    },
    {
     "data": {
      "text/plain": [
       "[('na', 425098),\n",
       " ('ndị', 185794),\n",
       " ('ihe', 153937),\n",
       " ('ọ', 146652),\n",
       " ('ya', 133167),\n",
       " ('ka', 130039),\n",
       " ('ha', 116738),\n",
       " ('anyị', 113356),\n",
       " ('a', 93399),\n",
       " ('nke', 89454)]"
      ]
     },
     "execution_count": 1,
     "metadata": {},
     "output_type": "execute_result"
    }
   ],
   "source": [
    "import matplotlib.pyplot as plt\n",
    "from collections import Counter\n",
    "\n",
    "# Preprocess the Corpus (replace 'corpus' with your actual corpus)\n",
    "#corpus = preprocess_corpus(corpus)\n",
    "corpus= open(\"my_corpus_with_my_non_igbo_words.txt\", encoding= \"utf8\")\n",
    "corpus= corpus.read()\n",
    "corpus= corpus.split()\n",
    "\n",
    "# Compute Word Frequencies\n",
    "word_freq = Counter(corpus)\n",
    "\n",
    "# Rank the Words\n",
    "ranked_words = sorted(word_freq.items(), key=lambda x: x[1], reverse=True)\n",
    "ranks = list(range(1, len(ranked_words) + 1))\n",
    "frequencies = [freq for _, freq in ranked_words]\n",
    "\n",
    "\n",
    "# Plot the Curve\n",
    "plt.loglog(ranks, frequencies)\n",
    "plt.xlabel('Rank')\n",
    "plt.ylabel('Frequency')\n",
    "plt.title(\"Zipf's Curve\")\n",
    "plt.grid(True)\n",
    "plt.show()\n",
    "\n",
    "len(corpus)\n",
    "\n",
    "\n",
    "ranked_words[:10]\n",
    "#ranked_words[:97]"
   ]
  },
  {
   "cell_type": "code",
   "execution_count": 2,
   "metadata": {},
   "outputs": [
    {
     "data": {
      "text/plain": [
       "17614"
      ]
     },
     "execution_count": 2,
     "metadata": {},
     "output_type": "execute_result"
    }
   ],
   "source": [
    "x= ranked_words[:10]\n",
    "#len(x) #28,827 unique words\n",
    "#y= ranks[:]\n",
    "#len(y)\n",
    "#frequencies[:10000][-4000:-1]\n",
    "ranked_words[:10]\n",
    "\"\"\"\n",
    "ranked_words_pure=[]\n",
    "\n",
    "for x,y in ranked_words:\n",
    "    ranked_words_pure.append(x)\n",
    "\"\"\"\n",
    "ranked_words_pure = [x for x, y in ranked_words]\n",
    "ranked_words_pure[:10]\n",
    "\n",
    "len(ranked_words_pure)"
   ]
  },
  {
   "cell_type": "code",
   "execution_count": 3,
   "metadata": {},
   "outputs": [],
   "source": [
    "z= frequencies[:]\n",
    "#len(z)\n",
    "num_for_1=0\n",
    "num_for_2=0\n",
    "num_for_3=0\n",
    "num_for_less_than_5=0\n",
    "num_for_less_than_ten=0\n",
    "num_for_less_than_twenty=0\n",
    "num_for_less_than_30 =0\n",
    "num_for_less_than_40 =0\n",
    "num_for_less_than_50 =0\n",
    "num_for_less_than_100 =0\n",
    "num_for_less_than_1000 =0\n",
    "num_for_less_than_10k =0\n",
    "\n",
    "\n",
    "\n",
    "\"\"\"\n",
    "for el in z:\n",
    "    if el == 1:\n",
    "        num_for_1+=1\n",
    "    elif el == 2:\n",
    "        num_for_2+=1\n",
    "    elif el == 3:\n",
    "        num_for_3+=1\n",
    "    else:\n",
    "        pass\n",
    "\"\"\"\n",
    "    \n",
    "    \n",
    "\n",
    "for el in z:\n",
    "    if el <= 1:\n",
    "        num_for_1 += 1\n",
    "        \n",
    "for el in z:\n",
    "    if el <= 2:\n",
    "        num_for_2 += 1\n",
    "\n",
    "for el in z:\n",
    "    if el <= 5:\n",
    "        num_for_less_than_5 += 1\n",
    "\n",
    "for el in z:\n",
    "    if el <= 10:\n",
    "        num_for_less_than_ten += 1\n",
    "        \n",
    "for el in z:\n",
    "    if el <= 20:\n",
    "        num_for_less_than_twenty += 1\n",
    "\n",
    "for el in z:\n",
    "    if el <= 30:\n",
    "        num_for_less_than_30 += 1\n",
    "\n",
    "for el in z:\n",
    "    if el <= 40:\n",
    "        num_for_less_than_40 += 1\n",
    "        \n",
    "for el in z:\n",
    "    if el <= 50:\n",
    "        num_for_less_than_50 += 1\n",
    "        \n",
    "for el in z:\n",
    "    if el <= 100:\n",
    "        num_for_less_than_100 += 1\n",
    "        \n",
    "for el in z:\n",
    "    if el <= 1000:\n",
    "        num_for_less_than_1000 += 1     \n",
    "        \n",
    "for el in z:\n",
    "    if el <= 10000:\n",
    "        num_for_less_than_10k += 1\n",
    "    \n",
    "#num_for_1 #1747 unique words have a count of 1\n",
    "#num_for_2 #6777\n",
    "#num_for_3 #3415\n",
    "#num_for_less_than_5 #15,587 words i.e a little over half of u.words\n",
    "#num_for_less_than_ten #19,484 words i.e way more than half of the unique words\n",
    "#num_for_less_than_twenty #22385 \n",
    "#num_for_less_than_30 #23648\n",
    "# Note that frequency starts breaking 20 at the about 6000 unique words\n",
    "#num_for_less_than_40 #24,446\n",
    "#num_for_less_than_50 #24,980\n",
    "#num_for_less_than_100 #26,186\n",
    "#num_for_less_than_1000 #28,173\n",
    "#num_for_less_than_10k #28,730 #leaving less than 100 unique words with over 10k freq\n",
    "\n"
   ]
  },
  {
   "cell_type": "code",
   "execution_count": 4,
   "metadata": {},
   "outputs": [
    {
     "name": "stdout",
     "output_type": "stream",
     "text": [
      "60% of the dataset\n"
     ]
    }
   ],
   "source": [
    "import math\n",
    "def my_percent_dist(x):\n",
    "    print (f\"{math.floor((x/28827)*100)}% of the dataset\")\n",
    "    \n",
    "\n",
    "my_percent_dist(num_for_less_than_10k) #60% of the dataset is now less than 10k"
   ]
  },
  {
   "cell_type": "markdown",
   "metadata": {},
   "source": [
    "### Syllabic Distribution"
   ]
  },
  {
   "cell_type": "markdown",
   "metadata": {},
   "source": [
    "Link to the phonology: http://www.languagesgulper.com/eng/Igbo.html"
   ]
  },
  {
   "cell_type": "markdown",
   "metadata": {},
   "source": [
    "### Some notes\n",
    "\n",
    "\n",
    "Sound system: https://www.mustgo.com/worldlanguages/igbo/\n",
    "\n",
    "The sound inventory of Standard Igbo consists of eight vowels, thirty consonants, and two tones, depending somewhat on the analysis. Igbo has only two syllable types: consonant + vowel (the most common syllable type), vowel or syllabic nasal. There are no consonant clusters and no syllable-final consonants.\n",
    "CV, V, m\n",
    "\n",
    "\n",
    "Phonology: http://www.languagesgulper.com/eng/Igbo.html\n",
    "\n",
    "Syllable structure: Igbo syllables end in a vowel or m. The most frequent are V, CV and CVm. Each syllable has a distinctive tone.\n",
    "\n"
   ]
  },
  {
   "cell_type": "markdown",
   "metadata": {},
   "source": [
    "### Some key questions\n",
    "\n",
    "- Are there also phonetic clusters that have a single sound in Igbo like -ed in english"
   ]
  },
  {
   "cell_type": "markdown",
   "metadata": {},
   "source": [
    "### Rules for Syllabic nassal distribution acquired\n",
    "\n",
    "- If n/m comes at the start of a word, it is a nasal vowel\n",
    "- If m occurs at the end of a word it is a syllabic nassal\n",
    "- If n or m precede a consonant, when within a word, it is a nasal"
   ]
  },
  {
   "cell_type": "markdown",
   "metadata": {},
   "source": [
    "#### Now I need to find out what words fall under this syllabic category that desnt conform to my rules base\n",
    "\n",
    "- First I modify the code to adjust the corpus and return the syllabic transistion of words and the words in a dictionary\n",
    "- We want to see what type of words these are, if they are borrowed, common, \n",
    "\n",
    "- Remove nasal vowel for two word alphabet "
   ]
  },
  {
   "cell_type": "markdown",
   "metadata": {},
   "source": [
    "### Mine with the for Loops"
   ]
  },
  {
   "cell_type": "markdown",
   "metadata": {},
   "source": [
    "### ChatGPT'S mod with while loops"
   ]
  },
  {
   "cell_type": "code",
   "execution_count": 5,
   "metadata": {},
   "outputs": [],
   "source": [
    "from collections import Counter\n",
    "\n",
    "def syllabic_structure(corpus):\n",
    "\n",
    "    consonants= ['b','c','d','f','g','h','j','k','l','m','n','p','r','s','t','v','w','y','z','C','N']\n",
    "    consonants2= ['b','c','d','f','g','h','j','k','l','m','n','p','r','s','t','v','w','y','z']\n",
    "\n",
    "    \"\"\"\n",
    "    corpus= open(\"my_corpus.txt\", encoding= \"utf8\")\n",
    "    corpus= corpus.read()\n",
    "    corpus= corpus.split()\n",
    "    \"\"\"\n",
    "    # Compute Word Frequencies\n",
    "    word_freq = Counter(corpus)\n",
    "    # Rank the Words\n",
    "    ranked_words = sorted(word_freq.items(), key=lambda x: x[1], reverse=True)\n",
    "    corpus= [x for x, y in ranked_words]\n",
    "\n",
    "    #corpus = ['nemeka','banyere','nelu','josh','mkpa','akpa','akụ', 'alụ', 'ogwe', 'okwukwe', 'nwa', 'ife', 'ifee', 'ọfọ']\n",
    "    #corpus = ['nemeka','chidinma','nelu','nyem','amarachi']\n",
    "\n",
    "    # digraphs ch, gb, gh, gw, kp, kw, nw, ny, sh,\n",
    "\n",
    "\n",
    "    vocab_struc= []\n",
    "    x= ''\n",
    "\n",
    "    for word in corpus:\n",
    "\n",
    "        #print (word)\n",
    "\n",
    "        x = ''\n",
    "\n",
    "        i = 0\n",
    "        while i < len(word):\n",
    "            if i != len(word) - 1:\n",
    "                if word[i:i+2] == 'ch':\n",
    "                    x += 'C'\n",
    "                    i += 2\n",
    "                    continue\n",
    "\n",
    "                elif word[i:i+2] == 'gb':\n",
    "                    x += 'C'\n",
    "                    i += 2\n",
    "                    continue\n",
    "\n",
    "                elif word[i:i+2] == 'gh':\n",
    "                    x += 'C'\n",
    "                    i += 2\n",
    "                    continue\n",
    "\n",
    "                elif word[i:i+2] == 'gw':\n",
    "                    x += 'C'\n",
    "                    i += 2\n",
    "                    continue\n",
    "\n",
    "                elif word[i:i+2] == 'kp':\n",
    "                    x += 'C'\n",
    "                    i += 2\n",
    "                    continue\n",
    "\n",
    "                elif word[i:i+2] == 'kw':\n",
    "                    x += 'C'\n",
    "                    i += 2\n",
    "                    continue\n",
    "\n",
    "                elif word[i:i+2] == 'nw':\n",
    "                    x += 'C'\n",
    "                    i += 2\n",
    "                    continue\n",
    "\n",
    "                elif word[i:i+2] == 'ny':\n",
    "                    x += 'C'\n",
    "                    i += 2\n",
    "                    continue\n",
    "\n",
    "                elif word[i:i+2] == 'sh':\n",
    "                    x += 'C'\n",
    "                    i += 2\n",
    "                    continue\n",
    "\n",
    "            x += word[i]\n",
    "            i += 1\n",
    "\n",
    "            #print(word)\n",
    "\n",
    "        if len(word) > 2:\n",
    "            if x != '':\n",
    "\n",
    "                for i in range(len(x)):\n",
    "                    \n",
    "                    \"\"\"\n",
    "                    if i == 0 and (x[i]== 'm' or x[i]=='n'):\n",
    "                        x= x.replace(x[i],'N')\n",
    "                    \"\"\"\n",
    "                    if i == len(x)-1 and x[i]== 'm':\n",
    "                        x= x.replace(x[i],'N',1)\n",
    "\n",
    "                    if (i == 0 or i != len(x)-1) and (x[i]== 'm' or x[i]=='n') and x[i+1] in consonants:\n",
    "                        x= x.replace(x[i],'N-',1)                \n",
    "\n",
    "                    elif (i == 0 or i != len(x)-1) and (x[i]== 'm' or x[i]=='n'):\n",
    "                        x= x.replace(x[i],'C',1)\n",
    "            else:\n",
    "\n",
    "                for i in range(len(word)):\n",
    "                    \n",
    "                    \"\"\"\n",
    "                    if i == 0 and (word[i]== 'm' or word[i]=='n'):\n",
    "                        word= word.replace(word[i],'N')\n",
    "                    \"\"\"\n",
    "                    if i == len(word)-1 and word[i]== 'm':\n",
    "                        word= word.replace(word[i],'N',1)\n",
    "\n",
    "                    elif (i == 0 or i != len(word)-1) and (word[i]== 'm' or word[i]=='n') and word[i+1] in consonants:\n",
    "                        word= word.replace(word[i],'N',1)\n",
    "\n",
    "                    elif (i == 0 or i != len(word)-1) and (word[i]== 'm' or word[i]=='n'):\n",
    "                        word= word.replace(word[i],'C',1)\n",
    "                        \n",
    "                    \n",
    "\n",
    "\n",
    "        if x != '':\n",
    "\n",
    "            for i in range(len(x)): \n",
    "\n",
    "                if x[i] not in consonants:\n",
    "                    #word[i]= \"V\"\n",
    "                    x= x.replace(x[i],'V')\n",
    "\n",
    "            for i in range(len(x)): \n",
    "\n",
    "                if x[i] in consonants2:\n",
    "                    #word[i]= \"V\"\n",
    "                    x= x.replace(x[i],'C')\n",
    "\n",
    "            vocab_struc.append(x)\n",
    "\n",
    "        else:\n",
    "            for i in range(len(word)): \n",
    "\n",
    "                if word[i] not in consonants:\n",
    "                    #word[i]= \"V\"\n",
    "                    word= word.replace(word[i],'V')\n",
    "\n",
    "            for i in range(len(word)): \n",
    "\n",
    "                if word[i] in consonants2:\n",
    "                    #word[i]= \"V\"\n",
    "                    word= word.replace(word[i],'C')\n",
    "\n",
    "            vocab_struc.append(word)\n",
    "\n",
    "\n",
    "    return list(zip(corpus,vocab_struc))\n",
    "    #['nemeka','chidinma','nelu','nyem']\n",
    "    "
   ]
  },
  {
   "cell_type": "code",
   "execution_count": 6,
   "metadata": {},
   "outputs": [
    {
     "data": {
      "text/plain": [
       "[('na', 'CV'),\n",
       " ('ndị', 'NVCV'),\n",
       " ('ihe', 'VCV'),\n",
       " ('ọ', 'V'),\n",
       " ('ya', 'CV'),\n",
       " ('ka', 'CV'),\n",
       " ('ha', 'CV'),\n",
       " ('anyị', 'VCV'),\n",
       " ('a', 'V'),\n",
       " ('nke', 'NVCV')]"
      ]
     },
     "execution_count": 6,
     "metadata": {},
     "output_type": "execute_result"
    }
   ],
   "source": [
    "#cor= ['nemeka','chidinma','nelu','nyem']\n",
    "\n",
    "corpus= open(\"my_corpus.txt\", encoding= \"utf8\")\n",
    "corpus= corpus.read()\n",
    "corpus= corpus.split()\n",
    "\n",
    "x_list= syllabic_structure(corpus)\n",
    "x_list[:10]\n",
    "\n"
   ]
  },
  {
   "cell_type": "code",
   "execution_count": 7,
   "metadata": {},
   "outputs": [
    {
     "data": {
      "text/plain": [
       "'V-CV-V-CV-V-CV-V-N-CV-V-C-C-N'"
      ]
     },
     "execution_count": 7,
     "metadata": {},
     "output_type": "execute_result"
    }
   ],
   "source": [
    "\n",
    "def vocabs_from_pattern(y):\n",
    "    #y = 'VCVCVCVNCVCCN'\n",
    "    el = []\n",
    "\n",
    "    for i in y:\n",
    "        el.append(i)\n",
    "\n",
    "    for i in range(len(el)):\n",
    "        if i == 0:\n",
    "            if el[i] == 'V':\n",
    "                el[i] = 'V-'\n",
    "            elif el[i] == 'N':\n",
    "                el[i] = 'N-'\n",
    "            elif el[i] == 'C' and el[i + 1] != 'V':\n",
    "                el[i] = 'C-'\n",
    "            elif el[i] == 'C' and el[i + 1] == 'V':\n",
    "                el[i] = 'CV-'\n",
    "                i += 1\n",
    "        elif i != 0 and i != len(el) - 1:\n",
    "            if el[i] == 'V':\n",
    "                el[i] = 'V-'\n",
    "            elif el[i] == 'N':\n",
    "                el[i] = 'N-'\n",
    "            elif el[i] == 'C' and el[i + 1] != 'V':\n",
    "                el[i] = 'C-'\n",
    "            elif el[i] == 'C' and el[i + 1] == 'V':\n",
    "                el[i] = 'CV-'\n",
    "                i += 1\n",
    "        elif i == len(el) - 1:\n",
    "            if el[i] == 'V':\n",
    "                el[i] = 'V'\n",
    "            elif el[i] == 'N':\n",
    "                el[i] = 'N'\n",
    "            elif el[i] == 'C':\n",
    "                el[i] = 'C'\n",
    "\n",
    "    xz = ''.join(el)\n",
    "    #print(xz)\n",
    "    return xz\n",
    "\n",
    "    \n",
    "\n",
    "\n",
    "y = 'VCVCVCVNCVCCN'\n",
    "vocabs_from_pattern(y)"
   ]
  },
  {
   "cell_type": "code",
   "execution_count": 8,
   "metadata": {
    "scrolled": false
   },
   "outputs": [
    {
     "name": "stdout",
     "output_type": "stream",
     "text": [
      "  Syllabic Representation  Count\n",
      "0                 VCVCVCV   3269\n",
      "1                  CVCVCV   3242\n",
      "2                   VCVCV   2975\n",
      "3                CVCVCVCV   2018\n",
      "4                    CVCV   1583\n",
      "5               VCVCVCVCV   1437\n",
      "6                   CVCVV    794\n",
      "7                     VCV    670\n",
      "8                   CVCVC    550\n",
      "9                 CVCVVCV    536\n"
     ]
    }
   ],
   "source": [
    "### the Unique number of syllabic_Structures \n",
    "voc= [voc for w,voc in x_list]\n",
    "\n",
    "word_freq = Counter(voc)\n",
    "# Rank the Words\n",
    "ranked_words = sorted(word_freq.items(), key=lambda x: x[1], reverse=True)\n",
    "ranked_words[:10]\n",
    "#len(ranked_words)#1564\n",
    "\n",
    "\n",
    "# Getting tabular ditribution\n",
    "import pandas as pd\n",
    "\n",
    "data =ranked_words[:10]\n",
    "df = pd.DataFrame(data, columns=['Syllabic Representation', 'Count'])\n",
    "print(df)\n",
    "\n"
   ]
  },
  {
   "cell_type": "code",
   "execution_count": 9,
   "metadata": {},
   "outputs": [],
   "source": [
    "def ranking(corpus):\n",
    "    # Compute Word Frequencies\n",
    "    word_freq = Counter(corpus)\n",
    "    # Rank the Words\n",
    "    ranked_words = sorted(word_freq.items(), key=lambda x: x[1], reverse=True)\n",
    "\n",
    "    # Rank the Words\n",
    "    ranks = list(range(1, len(ranked_words) + 1))\n",
    "    frequencies = [freq for _, freq in ranked_words]\n",
    "    \n",
    "    corpus= [x for x, y in ranked_words]\n",
    "    \n",
    "    return ranked_words"
   ]
  },
  {
   "cell_type": "code",
   "execution_count": 10,
   "metadata": {
    "scrolled": true
   },
   "outputs": [
    {
     "data": {
      "text/plain": [
       "[('na', 494386),\n",
       " ('ndị', 214265),\n",
       " ('ihe', 173961),\n",
       " ('ọ', 165307),\n",
       " ('ya', 154158),\n",
       " ('ka', 149596),\n",
       " ('ha', 131812),\n",
       " ('anyị', 124126),\n",
       " ('a', 108851),\n",
       " ('nke', 106157)]"
      ]
     },
     "execution_count": 10,
     "metadata": {},
     "output_type": "execute_result"
    }
   ],
   "source": [
    "y_list= ranking(corpus)\n",
    "y_list[:10]"
   ]
  },
  {
   "cell_type": "code",
   "execution_count": 11,
   "metadata": {},
   "outputs": [],
   "source": [
    "# Gives the words in the work that are not inline a 0 and thos inline a 1\n",
    "\n",
    "voc= [voc for w,voc in x_list]\n",
    "vocs={}\n",
    "num_of_0= 0\n",
    "num_of_1= 0\n",
    "\n",
    "for el in voc:\n",
    "    #print(range(el))\n",
    "    \n",
    "    for i in range(len(el)):\n",
    "        \n",
    "        # if it i is not the last character but is a C preceded by a C\n",
    "        if i != len(el)-1 and el[i] == 'C' and el[i+1] != 'V':\n",
    "            vocs[el] = 0\n",
    "            \n",
    "        # if i is a C and is the last character       \n",
    "        elif i == len(el)-1 and el[i] == 'C':\n",
    "            vocs[el] = 0\n",
    "            \n",
    "        # if i is a V or a N\n",
    "        elif el[i] == 'V' or el[i] == 'N': \n",
    "            vocs[el] = 1\n",
    "\n",
    "                \n",
    "x= list(vocs.values())\n",
    "\n",
    "for i in x:\n",
    "    if i==0:\n",
    "        num_of_0 += 1\n",
    "    elif i == 1:\n",
    "        num_of_1 += 1\n",
    "        \n"
   ]
  },
  {
   "cell_type": "code",
   "execution_count": 12,
   "metadata": {},
   "outputs": [
    {
     "name": "stdout",
     "output_type": "stream",
     "text": [
      "Does not conform : ['C', 'CVCVC', 'CCVVCC', 'CVVCVC', 'CVC', 'VCCVC', 'NVCVC', 'CVNVCVC', 'CVCVCVVC', 'CCVC'],\n",
      "Conforms:['CV', 'NVCV', 'VCV', 'V', 'CVCV', 'CVCVCV', 'NVCVCV', 'VCVCV', 'VCVV', 'CVV']\n"
     ]
    }
   ],
   "source": [
    "# Counts the total inline vs the total not inline\n",
    "\n",
    "zeros = []\n",
    "ones = []\n",
    "\n",
    "for key, value in vocs.items():\n",
    "    if value == 0:\n",
    "        zeros.append(key)\n",
    "    elif value == 1:\n",
    "        ones.append(key)\n",
    "\n",
    "#print(\"Keys with value 0:\", len(zeros))\n",
    "#print(\"Keys with value 1:\", len(ones))\n",
    "\n",
    "zeros[:10]\n",
    "\n",
    "\n",
    "import pandas as pd\n",
    "\n",
    "data = { 'Syllabic Structure':['do not conform','conform'], 'Count':[726,838]\n",
    "}\n",
    "\n",
    "df = pd.DataFrame(data)\n",
    "#print(df)\n",
    "df['percentage %']= round(df['Count']/df['Count'].sum(),2)*100\n",
    "\n",
    "\n",
    "\"\"\"\n",
    "# Plotting the PIE chart\n",
    "plt.pie(df['percentage %'], labels=df['Syllabic Structure'], autopct='%1.1f%%')\n",
    "plt.axis('equal')  # Equal aspect ratio ensures that pie is drawn as a circle\n",
    "plt.title('Unique Syllabic Structure Distribution of Niger-Volta.LTI Igbo Corpus\\n\\n')\n",
    "\n",
    "# Display the chart\n",
    "plt.show()\n",
    "\"\"\"\n",
    "\n",
    "print(f'Does not conform : {zeros[:10]},\\nConforms:{ones[:10]}')"
   ]
  },
  {
   "cell_type": "code",
   "execution_count": 13,
   "metadata": {},
   "outputs": [
    {
     "data": {
      "text/plain": [
       "[('na', 'CV'),\n",
       " ('ndị', 'NVCV'),\n",
       " ('ihe', 'VCV'),\n",
       " ('ọ', 'V'),\n",
       " ('ya', 'CV'),\n",
       " ('ka', 'CV'),\n",
       " ('ha', 'CV'),\n",
       " ('anyị', 'VCV'),\n",
       " ('a', 'V'),\n",
       " ('nke', 'NVCV')]"
      ]
     },
     "execution_count": 13,
     "metadata": {},
     "output_type": "execute_result"
    }
   ],
   "source": [
    "x_list[:10] # this is a list of unique words and the syllabic structures\n",
    "#y_list[:10] # this is a list of unique words and their counts"
   ]
  },
  {
   "cell_type": "code",
   "execution_count": 14,
   "metadata": {},
   "outputs": [
    {
     "data": {
      "text/plain": [
       "\"\\nzeros_words=[]\\nzero_words_and_freq=[]\\n\\nfor word,syllable in x_list:\\n    if syllable == 'VCCVC':#'CVCCVCVC':#'CCVVCC':#'CVCVC':\\n        zeros_words.append(word)\\n        \\nfor word, freq in y_list:\\n    if word in zeros_words:\\n        x= (word,freq)\\n        zero_words_and_freq.append(x)\\n        \\nzeros_words[:30]\\n\\n#'CCVVCC':\\n\\nif 'colleges' in zeros_words:\\n    print('Yes')\\n    \\nzeros_words[60:90]\\n\""
      ]
     },
     "execution_count": 14,
     "metadata": {},
     "output_type": "execute_result"
    }
   ],
   "source": [
    "\"\"\"\n",
    "zeros_words=[]\n",
    "zero_words_and_freq=[]\n",
    "\n",
    "for word,syllable in x_list:\n",
    "    if syllable == 'VCCVC':#'CVCCVCVC':#'CCVVCC':#'CVCVC':\n",
    "        zeros_words.append(word)\n",
    "        \n",
    "for word, freq in y_list:\n",
    "    if word in zeros_words:\n",
    "        x= (word,freq)\n",
    "        zero_words_and_freq.append(x)\n",
    "        \n",
    "zeros_words[:30]\n",
    "\n",
    "#'CCVVCC':\n",
    "\n",
    "if 'colleges' in zeros_words:\n",
    "    print('Yes')\n",
    "    \n",
    "zeros_words[60:90]\n",
    "\"\"\""
   ]
  },
  {
   "cell_type": "code",
   "execution_count": 15,
   "metadata": {},
   "outputs": [],
   "source": [
    "zeros_words=[]\n",
    "zero_words_and_freq=[]\n",
    "\n",
    "for word,syllable in x_list:\n",
    "    if syllable in zeros:\n",
    "        zeros_words.append(word)\n",
    "        \n",
    "for word, freq in y_list:\n",
    "    if word in zeros_words:\n",
    "        x= (word,freq)\n",
    "        zero_words_and_freq.append(x)\n"
   ]
  },
  {
   "cell_type": "code",
   "execution_count": 16,
   "metadata": {},
   "outputs": [
    {
     "name": "stdout",
     "output_type": "stream",
     "text": [
      "5320\n"
     ]
    },
    {
     "data": {
      "text/plain": [
       "[('m', 72585),\n",
       " ('jizọs', 21099),\n",
       " ('kraịst', 17166),\n",
       " ('baịbụl', 15022),\n",
       " ('pọl', 6745),\n",
       " ('izrel', 4544),\n",
       " ('setan', 3538),\n",
       " ('devid', 3346),\n",
       " ('b', 2723),\n",
       " ('jisọs', 2304),\n",
       " ('mozis', 2065),\n",
       " ('jọn', 1255),\n",
       " ('njem', 1244),\n",
       " ('kpọmkwem', 1240),\n",
       " ('josef', 1208),\n",
       " ('job', 1202),\n",
       " ('paradaịs', 1168),\n",
       " ('grik', 1044),\n",
       " ('iv', 1003),\n",
       " ('magazin', 980)]"
      ]
     },
     "execution_count": 16,
     "metadata": {},
     "output_type": "execute_result"
    }
   ],
   "source": [
    "print(len(zero_words_and_freq))#5077\n",
    "#zero_words_and_freq[:20]\n",
    "zero_words_and_freq[:20]\n"
   ]
  },
  {
   "cell_type": "code",
   "execution_count": 17,
   "metadata": {
    "scrolled": true
   },
   "outputs": [
    {
     "name": "stdout",
     "output_type": "stream",
     "text": [
      "23507\n"
     ]
    },
    {
     "data": {
      "text/plain": [
       "[('na', 494386),\n",
       " ('ndị', 214265),\n",
       " ('ihe', 173961),\n",
       " ('ọ', 165307),\n",
       " ('ya', 154158),\n",
       " ('ka', 149596),\n",
       " ('ha', 131812),\n",
       " ('anyị', 124126),\n",
       " ('a', 108851),\n",
       " ('nke', 106157)]"
      ]
     },
     "execution_count": 17,
     "metadata": {},
     "output_type": "execute_result"
    }
   ],
   "source": [
    "ones_words=[]\n",
    "ones_words_and_freq=[]\n",
    "\n",
    "for word,syllable in x_list:\n",
    "    if syllable in ones:\n",
    "        ones_words.append(word)\n",
    "        \n",
    "for word, freq in y_list:\n",
    "    if word in ones_words:\n",
    "        x= (word,freq)\n",
    "        ones_words_and_freq.append(x)\n",
    "        \n",
    "print(len(ones_words_and_freq))#23750\n",
    "ones_words_and_freq[:10]"
   ]
  },
  {
   "cell_type": "code",
   "execution_count": 18,
   "metadata": {},
   "outputs": [
    {
     "data": {
      "image/png": "[encoded data removed]",
      "text/plain": [
       "<Figure size 432x288 with 1 Axes>"
      ]
     },
     "metadata": {
      "needs_background": "light"
     },
     "output_type": "display_data"
    }
   ],
   "source": [
    "import matplotlib.pyplot as plt\n",
    "\n",
    "data = zero_words_and_freq[:20]\n",
    "#data = zero_words_and_freq\n",
    "\n",
    "# Sort the data in descending order by rank\n",
    "data.sort(key=lambda x: x[1], reverse=True)\n",
    "\n",
    "# Extract the words and ranks\n",
    "words = [item[0] for item in data]\n",
    "ranks = [item[1] for item in data]\n",
    "\n",
    "#\"\"\"\n",
    "# Create the horizontal bar plot\n",
    "plt.barh(range(len(words)), ranks, align='center')\n",
    "plt.yticks(range(len(words)), words)\n",
    "plt.xlabel('Frequency')\n",
    "plt.ylabel('Words')\n",
    "plt.title('Word Ranks')\n",
    "\n",
    "# Reverse the y-axis to display the highest rank word at the top\n",
    "plt.gca().invert_yaxis()\n",
    "\n",
    "plt.show()\n",
    "#\"\"\"\n",
    "\n",
    "#ranks[:10] \n",
    "#sum(ranks) # total count of words that are in the non-conforming group "
   ]
  },
  {
   "cell_type": "code",
   "execution_count": 19,
   "metadata": {},
   "outputs": [
    {
     "data": {
      "image/png": "[encoded data removed]",
      "text/plain": [
       "<Figure size 432x288 with 1 Axes>"
      ]
     },
     "metadata": {
      "needs_background": "light"
     },
     "output_type": "display_data"
    }
   ],
   "source": [
    "import matplotlib.pyplot as plt\n",
    "\n",
    "data = ones_words_and_freq[:20]\n",
    "#data = ones_words_and_freq\n",
    "\n",
    "# Sort the data in descending order by rank\n",
    "data.sort(key=lambda x: x[1], reverse=True)\n",
    "\n",
    "# Extract the words and ranks\n",
    "words = [item[0] for item in data]\n",
    "ranks = [item[1] for item in data]\n",
    "\n",
    "#\"\"\"\n",
    "# Create the horizontal bar plot\n",
    "plt.barh(range(len(words)), ranks, align='center')\n",
    "plt.yticks(range(len(words)), words)\n",
    "plt.xlabel('Frequency')\n",
    "plt.ylabel('Words')\n",
    "plt.title('Word Ranks')\n",
    "\n",
    "# Reverse the y-axis to display the highest rank word at the top\n",
    "plt.gca().invert_yaxis()\n",
    "\n",
    "plt.show()\n",
    "#\"\"\"\n",
    "\n",
    "#ranks[:10]\n",
    "#sum(ranks) # total count of words that are in the conform group"
   ]
  },
  {
   "cell_type": "code",
   "execution_count": 20,
   "metadata": {},
   "outputs": [
    {
     "name": "stdout",
     "output_type": "stream",
     "text": [
      "  Unique Words in Syllabic Structure Categories  Count  percentage %\n",
      "0                                do not conform   5077          18.0\n",
      "1                                       Conform  23750          82.0\n"
     ]
    }
   ],
   "source": [
    "import pandas as pd\n",
    "\n",
    "data = { 'Unique Words in Syllabic Structure Categories':['do not conform','Conform'], 'Count':[5077,23750]\n",
    "}\n",
    "\n",
    "df = pd.DataFrame(data)\n",
    "#print(df)\n",
    "df['percentage %']= round(df['Count']/df['Count'].sum(),2)*100\n",
    "print(df)"
   ]
  },
  {
   "cell_type": "code",
   "execution_count": 21,
   "metadata": {},
   "outputs": [
    {
     "data": {
      "image/png": "[encoded data removed]",
      "text/plain": [
       "<Figure size 432x288 with 1 Axes>"
      ]
     },
     "metadata": {},
     "output_type": "display_data"
    }
   ],
   "source": [
    "# Plotting the PIE chart\n",
    "plt.pie(df['percentage %'], labels=df['Unique Words in Syllabic Structure Categories'], autopct='%1.1f%%')\n",
    "plt.axis('equal')  # Equal aspect ratio ensures that pie is drawn as a circle\n",
    "plt.title('Unique Words in Syllabic Structure Categories\\n\\n')\n",
    "\n",
    "# Display the chart\n",
    "plt.show()"
   ]
  },
  {
   "cell_type": "code",
   "execution_count": 22,
   "metadata": {},
   "outputs": [
    {
     "name": "stdout",
     "output_type": "stream",
     "text": [
      "Count of all words in corpus that conform 6461994 while those that dont conform 239805\n",
      "The not conform:conform ration is 3.71%\n",
      "\n",
      "\n",
      "\n"
     ]
    },
    {
     "data": {
      "image/png": "[encoded data removed]",
      "text/plain": [
       "<Figure size 432x288 with 1 Axes>"
      ]
     },
     "metadata": {},
     "output_type": "display_data"
    }
   ],
   "source": [
    "import matplotlib.pyplot as plt\n",
    "\n",
    "\n",
    "data1 = zero_words_and_freq\n",
    "\n",
    "# Sort the data in descending order by rank\n",
    "data1.sort(key=lambda x: x[1], reverse=True)\n",
    "\n",
    "# Extract the words and ranks\n",
    "words1 = [item[0] for item in data1]\n",
    "ranks1 = [item[1] for item in data1]\n",
    "\n",
    "\n",
    "\n",
    "data2 = ones_words_and_freq\n",
    "\n",
    "# Sort the data in descending order by rank\n",
    "data2.sort(key=lambda x: x[1], reverse=True)\n",
    "\n",
    "# Extract the words and ranks\n",
    "words2 = [item[0] for item in data2]\n",
    "ranks2 = [item[1] for item in data2]\n",
    "\n",
    "\n",
    "\n",
    "\n",
    "\n",
    "#ranks[:10] \n",
    "#sum(ranks) # total count of words that are in the non-conforming group \n",
    "\n",
    "#ranks[:10]\n",
    "#sum(ranks) # total count of words that are in the conform group\n",
    "\n",
    "print(f\"Count of all words in corpus that conform {sum(ranks2)} while those that dont conform {sum(ranks1)}\\nThe not conform:conform ration is {round((sum(ranks1)/sum(ranks2))*100,2)}%\\n\\n\\n\")\n",
    "\n",
    "\n",
    "\n",
    "\n",
    "\n",
    "import pandas as pd\n",
    "\n",
    "data = { 'All Words in Syllabic Structure Categories':['do not conform','Conform'], 'Count':[234503,6467296]\n",
    "}\n",
    "\n",
    "df = pd.DataFrame(data)\n",
    "#print(df)\n",
    "df['percentage %']= round(df['Count']/df['Count'].sum(),2)*100\n",
    "#print(df)\n",
    "\n",
    "# Plotting the PIE chart\n",
    "plt.pie(df['percentage %'], labels=df['All Words in Syllabic Structure Categories'], autopct='%1.1f%%')\n",
    "plt.axis('equal')  # Equal aspect ratio ensures that pie is drawn as a circle\n",
    "plt.title('All Words in Syllabic Structure Categories\\n\\n')\n",
    "\n",
    "# Display the chart\n",
    "plt.show()\n",
    "\n",
    "# Just 3% of all the total individual words in the dataset do not conform"
   ]
  },
  {
   "cell_type": "code",
   "execution_count": 50,
   "metadata": {
    "scrolled": true
   },
   "outputs": [],
   "source": [
    "# Identifying words in my data that need to removed\n",
    "zeros_words\n",
    "\n",
    "zeros_words_coll = \"\\n\".join(zeros_words)"
   ]
  },
  {
   "cell_type": "code",
   "execution_count": 51,
   "metadata": {},
   "outputs": [],
   "source": [
    "file= open('words_tbr_python.txt', 'w+', encoding='utf8')\n",
    "file.write(zeros_words_coll)\n",
    "file.close()"
   ]
  },
  {
   "cell_type": "code",
   "execution_count": 24,
   "metadata": {},
   "outputs": [],
   "source": [
    " 'customs',\n",
    " 'handbook',\n",
    " 'samuelsịn',\n",
    " 'nepọl',\n",
    " 'mashal',\n",
    " 'pegelz',\n",
    " 'zung',\n",
    " 'bọltik',\n",
    " 'yohanan',\n",
    " 'mashiʹach',\n",
    " 'habat',\n",
    " 'kenet',\n",
    " 'lillian',\n",
    " 'selsọs',\n",
    " 'lọsh',\n",
    " 'hed',\n",
    " 'gmbh',\n",
    " 'ok',\n",
    " 'jeneret',\n",
    " 'kanzes',\n",
    " 'joann',\n",
    " 'sánchez',\n",
    " 'kọtịn',\n",
    " 'stenen',\n",
    " 'garry',\n",
    " 'gurion',\n",
    " 'calment',\n",
    " 'prins',\n",
    " 'gambling',\n",
    " 'bullinger',\n",
    " 'chuvash',\n",
    " 'emphasized',\n",
    " 'under',\n",
    " 'trials',\n",
    " 'stoyan',\n",
    " 'andrọnaịkọs',\n",
    " 'junias',\n",
    " 'kisịl',\n",
    " 'senigal',\n",
    " 'honsberger',\n",
    " 'penuel',\n",
    " 'pirot',\n",
    " 'leroy',\n",
    " 'nabonassar',\n",
    " 'isahadọn',\n",
    " 'ukin',\n",
    " 'wonders',\n",
    " 'kadịnal',\n",
    " 'soans',\n",
    " 'jill',\n",
    " 'forman',\n",
    " 'muhammad',\n",
    " 'yukrenian',\n",
    " 'bezin',\n",
    " 'len',\n",
    " 'kembrij',\n",
    " 'kep',\n",
    " 'vad',\n",
    " 'georgios',\n",
    " 'nalbarasin',\n",
    " 'masachusets',\n",
    " 'eprọn',\n",
    " 'hewitt',\n",
    " 'finmak',\n",
    " 'ingersoll',\n",
    " 'bart',\n",
    " 'rọsel',\n",
    " 'nan',\n",
    " 'moon',\n",
    " 'platt',\n",
    " 'efịk',\n",
    " 'abbott',\n",
    " 'guzman',\n",
    " 'kastilian',\n",
    " 'galishian',\n",
    " 'ralf',\n",
    " 'richad',\n",
    " 'brookes',\n",
    " 'rufọs',\n",
    " 'ahlberg',\n",
    " 'elliott',\n",
    " 'bangledesh',\n",
    " 'trabert',\n",
    " 'namaz',\n",
    " 'things',\n",
    " 'spaịknad',\n",
    " 'grenfell',\n",
    " 'amir',\n",
    " 'rees',\n",
    " 'nicolaus',\n",
    " 'rọg',\n",
    " 'mcdowell',\n",
    " 'flat',\n",
    " 'nauruan',\n",
    " 'trinity',\n",
    " 'hillary',\n",
    " 'shieltiel',\n",
    " 'comfort',\n",
    " 'seth',\n",
    " 'gust',\n",
    " 'paulos',\n",
    " 'ezekiel',\n",
    " 'nephesh',\n",
    " 'yod',\n",
    " 'nịrak',\n",
    " 'stensụl',\n",
    " 'ilias',\n",
    " 'makrọnisos',\n",
    " 'yiaros',\n",
    " 'tọkish',\n",
    " 'leigh',\n",
    " 'mavis',\n",
    " 'this',\n",
    " 'bulakan',\n",
    " 'kwinstaụn',\n",
    " 'bright',\n",
    " 'singh',\n",
    " 'soris',\n",
    " 'lizbọn',\n",
    " 'azores']"
   ]
  },
  {
   "cell_type": "markdown",
   "metadata": {},
   "source": [
    "## Putting My Syllabicator in a GUI\n",
    "### Step 1 Make it convert sentences"
   ]
  },
  {
   "cell_type": "code",
   "execution_count": 25,
   "metadata": {},
   "outputs": [],
   "source": [
    "sent= \"Igbo bla bla bla\"\n",
    "\n",
    "def random(x):\n",
    "    if x == 'bla':\n",
    "        x= 'yes'\n",
    "    return x\n",
    "\n",
    "def my_sent(sent):\n",
    "    \n",
    "    sent= sent.split()\n",
    "    my_sent=''\n",
    "    #sent = input('Enter your Sentence:')\n",
    "    for word in sent:\n",
    "        my_sent= my_sent +' '+ random(word)\n",
    "        \n",
    "    return my_sent\n",
    "    \n",
    "    "
   ]
  },
  {
   "cell_type": "code",
   "execution_count": 26,
   "metadata": {},
   "outputs": [
    {
     "data": {
      "text/plain": [
       "' Igbo yes yes yes'"
      ]
     },
     "execution_count": 26,
     "metadata": {},
     "output_type": "execute_result"
    }
   ],
   "source": [
    "my_sent(sent)"
   ]
  },
  {
   "cell_type": "code",
   "execution_count": 27,
   "metadata": {},
   "outputs": [],
   "source": [
    "def syllabic_structure(sent):\n",
    "    \n",
    "    sent= sent.split() # Add error handling here also # Add cleaning of the sentence or something to ensure that the sentence that gets here is Igbo\n",
    "\n",
    "    consonants= ['b','c','d','f','g','h','j','k','l','m','n','p','r','s','t','v','w','y','z','C','N']\n",
    "    consonants2= ['b','c','d','f','g','h','j','k','l','m','n','p','r','s','t','v','w','y','z']\n",
    "\n",
    "\n",
    "    # Compute Word Frequencies\n",
    "    #word_freq = Counter(corpus)\n",
    "    # Rank the Words\n",
    "    #ranked_words = sorted(word_freq.items(), key=lambda x: x[1], reverse=True)\n",
    "    #corpus= [x for x, y in ranked_words]\n",
    "\n",
    "    #corpus = ['nemeka','banyere','nelu','josh','mkpa','akpa','akụ', 'alụ', 'ogwe', 'okwukwe', 'nwa', 'ife', 'ifee', 'ọfọ']\n",
    "    #corpus = ['nemeka','chidinma','nelu','nyem','amarachi']\n",
    "\n",
    "    # digraphs ch, gb, gh, gw, kp, kw, nw, ny, sh,\n",
    "\n",
    "\n",
    "    vocab_struc= []\n",
    "    x= ''\n",
    "\n",
    "    for word in sent:\n",
    "\n",
    "        #print (word)\n",
    "\n",
    "        x = ''\n",
    "\n",
    "        i = 0\n",
    "        while i < len(word):\n",
    "            if i != len(word) - 1:\n",
    "                if word[i:i+2] == 'ch':\n",
    "                    x += 'C'\n",
    "                    i += 2\n",
    "                    continue\n",
    "\n",
    "                elif word[i:i+2] == 'gb':\n",
    "                    x += 'C'\n",
    "                    i += 2\n",
    "                    continue\n",
    "\n",
    "                elif word[i:i+2] == 'gh':\n",
    "                    x += 'C'\n",
    "                    i += 2\n",
    "                    continue\n",
    "\n",
    "                elif word[i:i+2] == 'gw':\n",
    "                    x += 'C'\n",
    "                    i += 2\n",
    "                    continue\n",
    "\n",
    "                elif word[i:i+2] == 'kp':\n",
    "                    x += 'C'\n",
    "                    i += 2\n",
    "                    continue\n",
    "\n",
    "                elif word[i:i+2] == 'kw':\n",
    "                    x += 'C'\n",
    "                    i += 2\n",
    "                    continue\n",
    "\n",
    "                elif word[i:i+2] == 'nw':\n",
    "                    x += 'C'\n",
    "                    i += 2\n",
    "                    continue\n",
    "\n",
    "                elif word[i:i+2] == 'ny':\n",
    "                    x += 'C'\n",
    "                    i += 2\n",
    "                    continue\n",
    "\n",
    "                elif word[i:i+2] == 'sh':\n",
    "                    x += 'C'\n",
    "                    i += 2\n",
    "                    continue\n",
    "\n",
    "            x += word[i]\n",
    "            i += 1\n",
    "\n",
    "            #print(word)\n",
    "\n",
    "        if len(word) > 2:\n",
    "            if x != '':\n",
    "\n",
    "                for i in range(len(x)):\n",
    "\n",
    "                    if i == len(x)-1 and x[i]== 'm':\n",
    "                        x= x.replace(x[i],'N',1)\n",
    "\n",
    "                    if (i == 0 or i != len(x)-1) and (x[i]== 'm' or x[i]=='n') and x[i+1] in consonants:\n",
    "                        x= x.replace(x[i],'N',1)                \n",
    "\n",
    "                    elif (i == 0 or i != len(x)-1) and (x[i]== 'm' or x[i]=='n'):\n",
    "                        x= x.replace(x[i],'C',1)\n",
    "            else:\n",
    "\n",
    "                for i in range(len(word)):\n",
    "                    \n",
    "                    if i == len(word)-1 and word[i]== 'm':\n",
    "                        word= word.replace(word[i],'N',1)\n",
    "\n",
    "                    elif (i == 0 or i != len(word)-1) and (word[i]== 'm' or word[i]=='n') and word[i+1] in consonants:\n",
    "                        word= word.replace(word[i],'N',1)\n",
    "\n",
    "                    elif (i == 0 or i != len(word)-1) and (word[i]== 'm' or word[i]=='n'):\n",
    "                        word= word.replace(word[i],'C',1)\n",
    "\n",
    "        if x != '':\n",
    "\n",
    "            for i in range(len(x)): \n",
    "\n",
    "                if x[i] not in consonants:\n",
    "                    #word[i]= \"V\"\n",
    "                    x= x.replace(x[i],'V')\n",
    "\n",
    "            for i in range(len(x)): \n",
    "\n",
    "                if x[i] in consonants2:\n",
    "                    #word[i]= \"V\"\n",
    "                    x= x.replace(x[i],'C')\n",
    "\n",
    "            vocab_struc.append(x)\n",
    "\n",
    "        else:\n",
    "            for i in range(len(word)): \n",
    "\n",
    "                if word[i] not in consonants:\n",
    "                    #word[i]= \"V\"\n",
    "                    word= word.replace(word[i],'V')\n",
    "\n",
    "            for i in range(len(word)): \n",
    "\n",
    "                if word[i] in consonants2:\n",
    "                    #word[i]= \"V\"\n",
    "                    word= word.replace(word[i],'C')\n",
    "\n",
    "            vocab_struc.append(word)\n",
    "\n",
    "\n",
    "    return ' '.join(vocab_struc),list(zip(sent,vocab_struc))\n",
    "\n",
    "    "
   ]
  },
  {
   "cell_type": "code",
   "execution_count": 28,
   "metadata": {
    "scrolled": true
   },
   "outputs": [
    {
     "data": {
      "text/plain": [
       "[('abum', 'VCVN'), ('ezigbo', 'VCVCV'), ('nwa', 'CV'), ('nwoke', 'CVCV')]"
      ]
     },
     "execution_count": 28,
     "metadata": {},
     "output_type": "execute_result"
    }
   ],
   "source": [
    "sentence= \"abum ezigbo nwa nwoke\"\n",
    "\n",
    "sent,lst = syllabic_structure(sentence)\n",
    "sent\n",
    "lst # Another functionality you can add to this is to put in this, is to allow people search for a word in their sentence and then get the key. ofcourse make this list a unique list\n"
   ]
  }
 ],
 "metadata": {
  "kernelspec": {
   "display_name": "Python 3",
   "language": "python",
   "name": "python3"
  },
  "language_info": {
   "codemirror_mode": {
    "name": "ipython",
    "version": 3
   },
   "file_extension": ".py",
   "mimetype": "text/x-python",
   "name": "python",
   "nbconvert_exporter": "python",
   "pygments_lexer": "ipython3",
   "version": "3.8.5"
  }
 },
 "nbformat": 4,
 "nbformat_minor": 4
}
