{
 "cells": [
  {
   "cell_type": "code",
   "execution_count": 1,
   "metadata": {},
   "outputs": [
    {
     "data": {
      "image/png": "[encoded data removed]",
      "text/plain": [
       "<Figure size 432x288 with 1 Axes>"
      ]
     },
     "metadata": {
      "needs_background": "light"
     },
     "output_type": "display_data"
    },
    {
     "data": {
      "text/plain": [
       "17614"
      ]
     },
     "execution_count": 1,
     "metadata": {},
     "output_type": "execute_result"
    }
   ],
   "source": [
    "import matplotlib.pyplot as plt\n",
    "from collections import Counter\n",
    "\n",
    "# Preprocess the Corpus (replace 'corpus' with your actual corpus)\n",
    "#corpus = preprocess_corpus(corpus)\n",
    "corpus= open(\"my_corpus_with_my_non_igbo_words.txt\", encoding= \"utf8\")\n",
    "corpus= corpus.read()\n",
    "corpus= corpus.split()\n",
    "\n",
    "# Compute Word Frequencies\n",
    "word_freq = Counter(corpus)\n",
    "\n",
    "# Rank the Words\n",
    "ranked_words = sorted(word_freq.items(), key=lambda x: x[1], reverse=True)\n",
    "ranks = list(range(1, len(ranked_words) + 1))\n",
    "frequencies = [freq for _, freq in ranked_words]\n",
    "\n",
    "\n",
    "# Plot the Curve\n",
    "plt.loglog(ranks, frequencies)\n",
    "plt.xlabel('Rank')\n",
    "plt.ylabel('Frequency')\n",
    "plt.title(\"Zipf's Curve\")\n",
    "plt.grid(True)\n",
    "plt.show()\n",
    "\n",
    "len(corpus)\n",
    "\n",
    "len(ranked_words)\n",
    "#ranked_words[:10]\n",
    "#ranked_words[:97]"
   ]
  },
  {
   "cell_type": "code",
   "execution_count": 2,
   "metadata": {},
   "outputs": [
    {
     "data": {
      "text/plain": [
       "17614"
      ]
     },
     "execution_count": 2,
     "metadata": {},
     "output_type": "execute_result"
    }
   ],
   "source": [
    "x= ranked_words[:10]\n",
    "#len(x) #28,827 unique words\n",
    "#y= ranks[:]\n",
    "#len(y)\n",
    "#frequencies[:10000][-4000:-1]\n",
    "ranked_words[:10]\n",
    "\"\"\"\n",
    "ranked_words_pure=[]\n",
    "\n",
    "for x,y in ranked_words:\n",
    "    ranked_words_pure.append(x)\n",
    "\"\"\"\n",
    "ranked_words_pure = [x for x, y in ranked_words]\n",
    "ranked_words_pure[:10]\n",
    "\n",
    "len(ranked_words_pure)"
   ]
  },
  {
   "cell_type": "code",
   "execution_count": 3,
   "metadata": {},
   "outputs": [],
   "source": [
    "z= frequencies[:]\n",
    "#len(z)\n",
    "num_for_1=0\n",
    "num_for_2=0\n",
    "num_for_3=0\n",
    "num_for_less_than_5=0\n",
    "num_for_less_than_ten=0\n",
    "num_for_less_than_twenty=0\n",
    "num_for_less_than_30 =0\n",
    "num_for_less_than_40 =0\n",
    "num_for_less_than_50 =0\n",
    "num_for_less_than_100 =0\n",
    "num_for_less_than_1000 =0\n",
    "num_for_less_than_10k =0\n",
    "\n",
    "\n",
    "\n",
    "\"\"\"\n",
    "for el in z:\n",
    "    if el == 1:\n",
    "        num_for_1+=1\n",
    "    elif el == 2:\n",
    "        num_for_2+=1\n",
    "    elif el == 3:\n",
    "        num_for_3+=1\n",
    "    else:\n",
    "        pass\n",
    "\"\"\"\n",
    "    \n",
    "    \n",
    "\n",
    "for el in z:\n",
    "    if el <= 1:\n",
    "        num_for_1 += 1\n",
    "        \n",
    "for el in z:\n",
    "    if el <= 2:\n",
    "        num_for_2 += 1\n",
    "\n",
    "for el in z:\n",
    "    if el <= 5:\n",
    "        num_for_less_than_5 += 1\n",
    "\n",
    "for el in z:\n",
    "    if el <= 10:\n",
    "        num_for_less_than_ten += 1\n",
    "        \n",
    "for el in z:\n",
    "    if el <= 20:\n",
    "        num_for_less_than_twenty += 1\n",
    "\n",
    "for el in z:\n",
    "    if el <= 30:\n",
    "        num_for_less_than_30 += 1\n",
    "\n",
    "for el in z:\n",
    "    if el <= 40:\n",
    "        num_for_less_than_40 += 1\n",
    "        \n",
    "for el in z:\n",
    "    if el <= 50:\n",
    "        num_for_less_than_50 += 1\n",
    "        \n",
    "for el in z:\n",
    "    if el <= 100:\n",
    "        num_for_less_than_100 += 1\n",
    "        \n",
    "for el in z:\n",
    "    if el <= 1000:\n",
    "        num_for_less_than_1000 += 1     \n",
    "        \n",
    "for el in z:\n",
    "    if el <= 10000:\n",
    "        num_for_less_than_10k += 1\n",
    "    \n",
    "#num_for_1 #1747 unique words have a count of 1\n",
    "#num_for_2 #6777\n",
    "#num_for_3 #3415\n",
    "#num_for_less_than_5 #15,587 words i.e a little over half of u.words\n",
    "#num_for_less_than_ten #19,484 words i.e way more than half of the unique words\n",
    "#num_for_less_than_twenty #22385 \n",
    "#num_for_less_than_30 #23648\n",
    "# Note that frequency starts breaking 20 at the about 6000 unique words\n",
    "#num_for_less_than_40 #24,446\n",
    "#num_for_less_than_50 #24,980\n",
    "#num_for_less_than_100 #26,186\n",
    "#num_for_less_than_1000 #28,173\n",
    "#num_for_less_than_10k #28,730 #leaving less than 100 unique words with over 10k freq\n",
    "\n"
   ]
  },
  {
   "cell_type": "code",
   "execution_count": 4,
   "metadata": {},
   "outputs": [
    {
     "name": "stdout",
     "output_type": "stream",
     "text": [
      "60% of the dataset\n"
     ]
    }
   ],
   "source": [
    "import math\n",
    "def my_percent_dist(x):\n",
    "    print (f\"{math.floor((x/28827)*100)}% of the dataset\")\n",
    "    \n",
    "\n",
    "my_percent_dist(num_for_less_than_10k) #60% of the dataset is now less than 10k"
   ]
  },
  {
   "cell_type": "markdown",
   "metadata": {},
   "source": [
    "### Syllabic Distribution"
   ]
  },
  {
   "cell_type": "markdown",
   "metadata": {},
   "source": [
    "Link to the phonology: http://www.languagesgulper.com/eng/Igbo.html"
   ]
  },
  {
   "cell_type": "markdown",
   "metadata": {},
   "source": [
    "### Some notes\n",
    "\n",
    "\n",
    "Sound system: https://www.mustgo.com/worldlanguages/igbo/\n",
    "\n",
    "The sound inventory of Standard Igbo consists of eight vowels, thirty consonants, and two tones, depending somewhat on the analysis. Igbo has only two syllable types: consonant + vowel (the most common syllable type), vowel or syllabic nasal. There are no consonant clusters and no syllable-final consonants.\n",
    "CV, V, m\n",
    "\n",
    "\n",
    "Phonology: http://www.languagesgulper.com/eng/Igbo.html\n",
    "\n",
    "Syllable structure: Igbo syllables end in a vowel or m. The most frequent are V, CV and CVm. Each syllable has a distinctive tone.\n",
    "\n"
   ]
  },
  {
   "cell_type": "markdown",
   "metadata": {},
   "source": [
    "### Some key questions\n",
    "\n",
    "- Are there also phonetic clusters that have a single sound in Igbo like -ed in english"
   ]
  },
  {
   "cell_type": "markdown",
   "metadata": {},
   "source": [
    "### Rules for Syllabic nassal distribution acquired\n",
    "\n",
    "- If n/m comes at the start of a word, it is a nasal vowel\n",
    "- If m occurs at the end of a word it is a syllabic nassal\n",
    "- If n or m precede a consonant, when within a word, it is a nasal"
   ]
  },
  {
   "cell_type": "markdown",
   "metadata": {},
   "source": [
    "#### Now I need to find out what words fall under this syllabic category that desnt conform to my rules base\n",
    "\n",
    "- First I modify the code to adjust the corpus and return the syllabic transistion of words and the words in a dictionary\n",
    "- We want to see what type of words these are, if they are borrowed, common, \n",
    "\n",
    "- Remove nasal vowel for two word alphabet "
   ]
  },
  {
   "cell_type": "markdown",
   "metadata": {},
   "source": [
    "### Mine with the for Loops"
   ]
  },
  {
   "cell_type": "markdown",
   "metadata": {},
   "source": [
    "### ChatGPT'S mod with while loops"
   ]
  },
  {
   "cell_type": "code",
   "execution_count": 5,
   "metadata": {},
   "outputs": [],
   "source": [
    "from collections import Counter\n",
    "\n",
    "def syllabic_structure(corpus):\n",
    "\n",
    "    consonants= ['b','c','d','f','g','h','j','k','l','m','n','p','r','s','t','v','w','y','z','C','N']\n",
    "    consonants2= ['b','c','d','f','g','h','j','k','l','m','n','p','r','s','t','v','w','y','z']\n",
    "\n",
    "    \"\"\"\n",
    "    corpus= open(\"my_corpus.txt\", encoding= \"utf8\")\n",
    "    corpus= corpus.read()\n",
    "    corpus= corpus.split()\n",
    "    \"\"\"\n",
    "    # Compute Word Frequencies\n",
    "    word_freq = Counter(corpus)\n",
    "    # Rank the Words\n",
    "    ranked_words = sorted(word_freq.items(), key=lambda x: x[1], reverse=True)\n",
    "    corpus= [x for x, y in ranked_words]\n",
    "\n",
    "    #corpus = ['nemeka','banyere','nelu','josh','mkpa','akpa','akụ', 'alụ', 'ogwe', 'okwukwe', 'nwa', 'ife', 'ifee', 'ọfọ']\n",
    "    #corpus = ['nemeka','chidinma','nelu','nyem','amarachi']\n",
    "\n",
    "    # digraphs ch, gb, gh, gw, kp, kw, nw, ny, sh,\n",
    "\n",
    "\n",
    "    vocab_struc= []\n",
    "    x= ''\n",
    "\n",
    "    for word in corpus:\n",
    "\n",
    "        #print (word)\n",
    "\n",
    "        x = ''\n",
    "\n",
    "        i = 0\n",
    "        while i < len(word):\n",
    "            if i != len(word) - 1:\n",
    "                if word[i:i+2] == 'ch':\n",
    "                    x += 'C'\n",
    "                    i += 2\n",
    "                    continue\n",
    "\n",
    "                elif word[i:i+2] == 'gb':\n",
    "                    x += 'C'\n",
    "                    i += 2\n",
    "                    continue\n",
    "\n",
    "                elif word[i:i+2] == 'gh':\n",
    "                    x += 'C'\n",
    "                    i += 2\n",
    "                    continue\n",
    "\n",
    "                elif word[i:i+2] == 'gw':\n",
    "                    x += 'C'\n",
    "                    i += 2\n",
    "                    continue\n",
    "\n",
    "                elif word[i:i+2] == 'kp':\n",
    "                    x += 'C'\n",
    "                    i += 2\n",
    "                    continue\n",
    "\n",
    "                elif word[i:i+2] == 'kw':\n",
    "                    x += 'C'\n",
    "                    i += 2\n",
    "                    continue\n",
    "\n",
    "                elif word[i:i+2] == 'nw':\n",
    "                    x += 'C'\n",
    "                    i += 2\n",
    "                    continue\n",
    "\n",
    "                elif word[i:i+2] == 'ny':\n",
    "                    x += 'C'\n",
    "                    i += 2\n",
    "                    continue\n",
    "\n",
    "                elif word[i:i+2] == 'sh':\n",
    "                    x += 'C'\n",
    "                    i += 2\n",
    "                    continue\n",
    "\n",
    "            x += word[i]\n",
    "            i += 1\n",
    "\n",
    "            #print(word)\n",
    "\n",
    "        if len(word) > 2:\n",
    "            if x != '':\n",
    "\n",
    "                for i in range(len(x)):\n",
    "                    \n",
    "                    \"\"\"\n",
    "                    if i == 0 and (x[i]== 'm' or x[i]=='n'):\n",
    "                        x= x.replace(x[i],'N')\n",
    "                    \"\"\"\n",
    "                    if i == len(x)-1 and x[i]== 'm':\n",
    "                        x= x.replace(x[i],'N',1)\n",
    "\n",
    "                    if (i == 0 or i != len(x)-1) and (x[i]== 'm' or x[i]=='n') and x[i+1] in consonants:\n",
    "                        x= x.replace(x[i],'N-',1)                \n",
    "\n",
    "                    elif (i == 0 or i != len(x)-1) and (x[i]== 'm' or x[i]=='n'):\n",
    "                        x= x.replace(x[i],'C',1)\n",
    "            else:\n",
    "\n",
    "                for i in range(len(word)):\n",
    "                    \n",
    "                    \"\"\"\n",
    "                    if i == 0 and (word[i]== 'm' or word[i]=='n'):\n",
    "                        word= word.replace(word[i],'N')\n",
    "                    \"\"\"\n",
    "                    if i == len(word)-1 and word[i]== 'm':\n",
    "                        word= word.replace(word[i],'N',1)\n",
    "\n",
    "                    elif (i == 0 or i != len(word)-1) and (word[i]== 'm' or word[i]=='n') and word[i+1] in consonants:\n",
    "                        word= word.replace(word[i],'N',1)\n",
    "\n",
    "                    elif (i == 0 or i != len(word)-1) and (word[i]== 'm' or word[i]=='n'):\n",
    "                        word= word.replace(word[i],'C',1)\n",
    "                        \n",
    "                        \n",
    "        #Add code for m and n standing alone to be syllabic nasals\n",
    "                        \n",
    "        if len(word) ==1 :\n",
    "            if x != '':\n",
    "\n",
    "                for i in range(len(x)):\n",
    "                    \n",
    "                \n",
    "                    if i == 0 and (x[i]== 'm' or x[i]=='n'):\n",
    "                        x= x.replace(x[i],'N')\n",
    "                \n",
    "            else:\n",
    "\n",
    "                for i in range(len(word)):\n",
    "                    \n",
    "                    \n",
    "                    if i == 0 and (word[i]== 'm' or word[i]=='n'):\n",
    "                        word= word.replace(word[i],'N')\n",
    "                      \n",
    "\n",
    "\n",
    "        if x != '':\n",
    "\n",
    "            for i in range(len(x)): \n",
    "\n",
    "                if x[i] not in consonants:\n",
    "                    #word[i]= \"V\"\n",
    "                    x= x.replace(x[i],'V')\n",
    "\n",
    "            for i in range(len(x)): \n",
    "\n",
    "                if x[i] in consonants2:\n",
    "                    #word[i]= \"V\"\n",
    "                    x= x.replace(x[i],'C')\n",
    "\n",
    "            vocab_struc.append(x)\n",
    "\n",
    "        else:\n",
    "            for i in range(len(word)): \n",
    "\n",
    "                if word[i] not in consonants:\n",
    "                    #word[i]= \"V\"\n",
    "                    word= word.replace(word[i],'V')\n",
    "\n",
    "            for i in range(len(word)): \n",
    "\n",
    "                if word[i] in consonants2:\n",
    "                    #word[i]= \"V\"\n",
    "                    word= word.replace(word[i],'C')\n",
    "\n",
    "            vocab_struc.append(word)\n",
    "\n",
    "\n",
    "    return list(zip(corpus,vocab_struc))\n",
    "    #['nemeka','chidinma','nelu','nyem']\n",
    "    "
   ]
  },
  {
   "cell_type": "code",
   "execution_count": 6,
   "metadata": {},
   "outputs": [
    {
     "data": {
      "text/plain": [
       "[('na', 'CV'),\n",
       " ('ndị', 'NVCV'),\n",
       " ('ihe', 'VCV'),\n",
       " ('ọ', 'V'),\n",
       " ('ya', 'CV'),\n",
       " ('ka', 'CV'),\n",
       " ('ha', 'CV'),\n",
       " ('anyị', 'VCV'),\n",
       " ('a', 'V'),\n",
       " ('nke', 'NVCV')]"
      ]
     },
     "execution_count": 6,
     "metadata": {},
     "output_type": "execute_result"
    }
   ],
   "source": [
    "#cor= ['nemeka','chidinma','nelu','nyem']\n",
    "\n",
    "corpus= open(\"my_corpus_with_my_non_igbo_words.txt\", encoding= \"utf8\")\n",
    "corpus= corpus.read()\n",
    "corpus= corpus.split()\n",
    "\n",
    "x_list= syllabic_structure(corpus)\n",
    "x_list[:10]\n",
    "\n"
   ]
  },
  {
   "cell_type": "code",
   "execution_count": 7,
   "metadata": {},
   "outputs": [
    {
     "data": {
      "text/plain": [
       "'V-CV-V-CV-V-CV-V-N-CV-V-C-C-N'"
      ]
     },
     "execution_count": 7,
     "metadata": {},
     "output_type": "execute_result"
    }
   ],
   "source": [
    "\n",
    "def vocabs_from_pattern(y):\n",
    "    #y = 'VCVCVCVNCVCCN'\n",
    "    el = []\n",
    "\n",
    "    for i in y:\n",
    "        el.append(i)\n",
    "\n",
    "    for i in range(len(el)):\n",
    "        if i == 0:\n",
    "            if el[i] == 'V':\n",
    "                el[i] = 'V-'\n",
    "            elif el[i] == 'N':\n",
    "                el[i] = 'N-'\n",
    "            elif el[i] == 'C' and el[i + 1] != 'V':\n",
    "                el[i] = 'C-'\n",
    "            elif el[i] == 'C' and el[i + 1] == 'V':\n",
    "                el[i] = 'CV-'\n",
    "                i += 1\n",
    "        elif i != 0 and i != len(el) - 1:\n",
    "            if el[i] == 'V':\n",
    "                el[i] = 'V-'\n",
    "            elif el[i] == 'N':\n",
    "                el[i] = 'N-'\n",
    "            elif el[i] == 'C' and el[i + 1] != 'V':\n",
    "                el[i] = 'C-'\n",
    "            elif el[i] == 'C' and el[i + 1] == 'V':\n",
    "                el[i] = 'CV-'\n",
    "                i += 1\n",
    "        elif i == len(el) - 1:\n",
    "            if el[i] == 'V':\n",
    "                el[i] = 'V'\n",
    "            elif el[i] == 'N':\n",
    "                el[i] = 'N'\n",
    "            elif el[i] == 'C':\n",
    "                el[i] = 'C'\n",
    "\n",
    "    xz = ''.join(el)\n",
    "    #print(xz)\n",
    "    return xz\n",
    "\n",
    "    \n",
    "\n",
    "\n",
    "y = 'VCVCVCVNCVCCN'\n",
    "vocabs_from_pattern(y)"
   ]
  },
  {
   "cell_type": "code",
   "execution_count": 8,
   "metadata": {
    "scrolled": false
   },
   "outputs": [
    {
     "name": "stdout",
     "output_type": "stream",
     "text": [
      "  Syllabic Representation  Count\n",
      "0                  CVCVCV   2428\n",
      "1                   VCVCV   2414\n",
      "2                 VCVCVCV   2337\n",
      "3                CVCVCVCV   1344\n",
      "4                    CVCV   1259\n",
      "5               VCVCVCVCV    895\n",
      "6                     VCV    605\n",
      "7                   CVCVV    587\n",
      "8                   CVVCV    387\n",
      "9                 CVCVVCV    384\n"
     ]
    }
   ],
   "source": [
    "### the Unique number of syllabic_Structures \n",
    "voc= [voc for w,voc in x_list]\n",
    "\n",
    "word_freq = Counter(voc)\n",
    "# Rank the Words\n",
    "ranked_words = sorted(word_freq.items(), key=lambda x: x[1], reverse=True)\n",
    "ranked_words[:10]\n",
    "#len(ranked_words)#1564\n",
    "\n",
    "\n",
    "# Getting tabular ditribution\n",
    "import pandas as pd\n",
    "\n",
    "data =ranked_words[:10]\n",
    "df = pd.DataFrame(data, columns=['Syllabic Representation', 'Count'])\n",
    "print(df)\n",
    "\n"
   ]
  },
  {
   "cell_type": "code",
   "execution_count": 9,
   "metadata": {},
   "outputs": [],
   "source": [
    "def ranking(corpus):\n",
    "    # Compute Word Frequencies\n",
    "    word_freq = Counter(corpus)\n",
    "    # Rank the Words\n",
    "    ranked_words = sorted(word_freq.items(), key=lambda x: x[1], reverse=True)\n",
    "\n",
    "    # Rank the Words\n",
    "    ranks = list(range(1, len(ranked_words) + 1))\n",
    "    frequencies = [freq for _, freq in ranked_words]\n",
    "    \n",
    "    corpus= [x for x, y in ranked_words]\n",
    "    \n",
    "    return ranked_words\n"
   ]
  },
  {
   "cell_type": "code",
   "execution_count": 10,
   "metadata": {
    "scrolled": true
   },
   "outputs": [
    {
     "data": {
      "text/plain": [
       "[('na', 425098),\n",
       " ('ndị', 185794),\n",
       " ('ihe', 153937),\n",
       " ('ọ', 146652),\n",
       " ('ya', 133167),\n",
       " ('ka', 130039),\n",
       " ('ha', 116738),\n",
       " ('anyị', 113356),\n",
       " ('a', 93399),\n",
       " ('nke', 89454)]"
      ]
     },
     "execution_count": 10,
     "metadata": {},
     "output_type": "execute_result"
    }
   ],
   "source": [
    "y_list= ranking(corpus)\n",
    "y_list[:10]"
   ]
  },
  {
   "cell_type": "code",
   "execution_count": 11,
   "metadata": {},
   "outputs": [],
   "source": [
    "# Gives the words in the work that are not inline a 0 and thos inline a 1\n",
    "\n",
    "voc= [voc for w,voc in x_list]\n",
    "vocs={}\n",
    "num_of_0= 0\n",
    "num_of_1= 0\n",
    "\n",
    "for el in voc:\n",
    "    #print(range(el))\n",
    "    \n",
    "    for i in range(len(el)):\n",
    "        \n",
    "        # if it i is not the last character but is a C preceded by a C\n",
    "        if i != len(el)-1 and el[i] == 'C' and el[i+1] != 'V':\n",
    "            vocs[el] = 0\n",
    "            \n",
    "        # if i is a C and is the last character       \n",
    "        elif i == len(el)-1 and el[i] == 'C':\n",
    "            vocs[el] = 0\n",
    "            \n",
    "        # if i is a V or a N\n",
    "        elif el[i] == 'V' or el[i] == 'N': \n",
    "            vocs[el] = 1\n",
    "\n",
    "                \n",
    "x= list(vocs.values())\n",
    "\n",
    "for i in x:\n",
    "    if i==0:\n",
    "        num_of_0 += 1\n",
    "    elif i == 1:\n",
    "        num_of_1 += 1\n",
    "        \n"
   ]
  },
  {
   "cell_type": "code",
   "execution_count": 39,
   "metadata": {},
   "outputs": [
    {
     "name": "stdout",
     "output_type": "stream",
     "text": [
      "Does not conform : ['CVCVC', 'CCVVCC', 'CVVCVC', 'CVC', 'VCCVC', 'CVNVCVC', 'CVCVCVVC', 'NVCVC', 'CCVC', 'CVCVCVC'],\n",
      "Conforms:['CV', 'NVCV', 'VCV', 'V', 'N', 'CVCVCV', 'CVCV', 'NVCVCV', 'VCVV', 'VCVCV']\n",
      "huh-oh, yes\n"
     ]
    }
   ],
   "source": [
    "# Counts the total inline vs the total not inline\n",
    "\n",
    "zeros = []\n",
    "ones = []\n",
    "\n",
    "for key, value in vocs.items():\n",
    "    if value == 0:\n",
    "        zeros.append(key)\n",
    "    elif value == 1:\n",
    "        ones.append(key)\n",
    "\n",
    "#print(\"Keys with value 0:\", len(zeros))\n",
    "#print(\"Keys with value 1:\", len(ones))\n",
    "\n",
    "zeros[:10]\n",
    "\n",
    "\n",
    "import pandas as pd\n",
    "\n",
    "data = { 'Syllabic Structure':['do not conform','conform'], 'Count':[726,838]\n",
    "}\n",
    "\n",
    "df = pd.DataFrame(data)\n",
    "#print(df)\n",
    "df['percentage %']= round(df['Count']/df['Count'].sum(),2)*100\n",
    "\n",
    "\n",
    "\"\"\"\n",
    "# Plotting the PIE chart\n",
    "plt.pie(df['percentage %'], labels=df['Syllabic Structure'], autopct='%1.1f%%')\n",
    "plt.axis('equal')  # Equal aspect ratio ensures that pie is drawn as a circle\n",
    "plt.title('Unique Syllabic Structure Distribution of Niger-Volta.LTI Igbo Corpus\\n\\n')\n",
    "\n",
    "# Display the chart\n",
    "plt.show()\n",
    "\"\"\"\n",
    "\n",
    "print(f'Does not conform : {zeros[:10]},\\nConforms:{ones[:10]}')\n",
    "\n",
    "if 'CVCVCVCCVCV' in ones:\n",
    "    print ('huh-oh, yes')\n",
    "else:\n",
    "    print ('Nope you good')"
   ]
  },
  {
   "cell_type": "code",
   "execution_count": 13,
   "metadata": {},
   "outputs": [
    {
     "data": {
      "text/plain": [
       "[('na', 'CV'),\n",
       " ('ndị', 'NVCV'),\n",
       " ('ihe', 'VCV'),\n",
       " ('ọ', 'V'),\n",
       " ('ya', 'CV'),\n",
       " ('ka', 'CV'),\n",
       " ('ha', 'CV'),\n",
       " ('anyị', 'VCV'),\n",
       " ('a', 'V'),\n",
       " ('nke', 'NVCV')]"
      ]
     },
     "execution_count": 13,
     "metadata": {},
     "output_type": "execute_result"
    }
   ],
   "source": [
    "x_list[:10] # this is a list of unique words and the syllabic structures\n",
    "#y_list[:10] # this is a list of unique words and their counts"
   ]
  },
  {
   "cell_type": "code",
   "execution_count": 36,
   "metadata": {},
   "outputs": [
    {
     "ename": "NameError",
     "evalue": "name 'one_words' is not defined",
     "output_type": "error",
     "traceback": [
      "\u001b[1;31m---------------------------------------------------------------------------\u001b[0m",
      "\u001b[1;31mNameError\u001b[0m                                 Traceback (most recent call last)",
      "\u001b[1;32m<ipython-input-36-d8bc9d24f6de>\u001b[0m in \u001b[0;36m<module>\u001b[1;34m\u001b[0m\n\u001b[0;32m     22\u001b[0m \u001b[1;33m\u001b[0m\u001b[0m\n\u001b[0;32m     23\u001b[0m \u001b[1;33m\u001b[0m\u001b[0m\n\u001b[1;32m---> 24\u001b[1;33m \u001b[1;32mif\u001b[0m \u001b[1;34m'nebukadneza'\u001b[0m \u001b[1;32min\u001b[0m \u001b[0mone_words\u001b[0m\u001b[1;33m:\u001b[0m\u001b[1;33m\u001b[0m\u001b[1;33m\u001b[0m\u001b[0m\n\u001b[0m\u001b[0;32m     25\u001b[0m     \u001b[0mprint\u001b[0m\u001b[1;33m(\u001b[0m\u001b[1;34m\"Oops Yes!\"\u001b[0m\u001b[1;33m)\u001b[0m\u001b[1;33m\u001b[0m\u001b[1;33m\u001b[0m\u001b[0m\n\u001b[0;32m     26\u001b[0m \u001b[1;32melse\u001b[0m\u001b[1;33m:\u001b[0m\u001b[1;33m\u001b[0m\u001b[1;33m\u001b[0m\u001b[0m\n",
      "\u001b[1;31mNameError\u001b[0m: name 'one_words' is not defined"
     ]
    }
   ],
   "source": [
    "zeros_words=[]\n",
    "zero_words_and_freq=[]\n",
    "\n",
    "for word,syllable in x_list:\n",
    "    if syllable == 'NVCVCVCV':#'CVCCVCVC':#'CCVVCC':#'CVCVC':\n",
    "        zeros_words.append(word)\n",
    "        \n",
    "for word, freq in y_list:\n",
    "    if word in zeros_words:\n",
    "        x= (word,freq)\n",
    "        zero_words_and_freq.append(x)\n",
    "        \n",
    "zeros_words[:30]\n",
    "\n",
    "#'CCVVCC':\n",
    "\n",
    "if 'colleges' in zeros_words:\n",
    "    print('Yes')\n",
    "    \n",
    "#zeros_words[60:90]\n",
    "zeros_words[:90]"
   ]
  },
  {
   "cell_type": "code",
   "execution_count": 15,
   "metadata": {},
   "outputs": [],
   "source": [
    "zeros_words=[]\n",
    "zero_words_and_freq=[]\n",
    "\n",
    "for word,syllable in x_list:\n",
    "    if syllable in zeros:\n",
    "        zeros_words.append(word)\n",
    "        \n",
    "for word, freq in y_list:\n",
    "    if word in zeros_words:\n",
    "        x= (word,freq)\n",
    "        zero_words_and_freq.append(x)\n"
   ]
  },
  {
   "cell_type": "code",
   "execution_count": 16,
   "metadata": {},
   "outputs": [
    {
     "name": "stdout",
     "output_type": "stream",
     "text": [
      "763\n"
     ]
    },
    {
     "data": {
      "text/plain": [
       "[('jizọs', 19757),\n",
       " ('kraịst', 15724),\n",
       " ('baịbụl', 13623),\n",
       " ('pọl', 6296),\n",
       " ('izrel', 4003),\n",
       " ('setan', 3026),\n",
       " ('devid', 2903),\n",
       " ('jisọs', 2112),\n",
       " ('mozis', 1878),\n",
       " ('jọn', 1139),\n",
       " ('josef', 1099),\n",
       " ('kpọmkwem', 1090),\n",
       " ('paradaịs', 1054),\n",
       " ('njem', 1001),\n",
       " ('grik', 759),\n",
       " ('magazin', 669),\n",
       " ('sọl', 632),\n",
       " ('jekọb', 562),\n",
       " ('sọlọmọn', 546),\n",
       " ('ijipt', 516)]"
      ]
     },
     "execution_count": 16,
     "metadata": {},
     "output_type": "execute_result"
    }
   ],
   "source": [
    "print(len(zero_words_and_freq))#5077\n",
    "#zero_words_and_freq[:20]\n",
    "zero_words_and_freq[:20]\n"
   ]
  },
  {
   "cell_type": "code",
   "execution_count": 37,
   "metadata": {
    "scrolled": true
   },
   "outputs": [
    {
     "name": "stdout",
     "output_type": "stream",
     "text": [
      "16851\n"
     ]
    },
    {
     "ename": "NameError",
     "evalue": "name 'one_words' is not defined",
     "output_type": "error",
     "traceback": [
      "\u001b[1;31m---------------------------------------------------------------------------\u001b[0m",
      "\u001b[1;31mNameError\u001b[0m                                 Traceback (most recent call last)",
      "\u001b[1;32m<ipython-input-37-8f39374e8730>\u001b[0m in \u001b[0;36m<module>\u001b[1;34m\u001b[0m\n\u001b[0;32m     14\u001b[0m \u001b[0mones_words_and_freq\u001b[0m\u001b[1;33m[\u001b[0m\u001b[1;33m:\u001b[0m\u001b[1;36m10\u001b[0m\u001b[1;33m]\u001b[0m\u001b[1;33m\u001b[0m\u001b[1;33m\u001b[0m\u001b[0m\n\u001b[0;32m     15\u001b[0m \u001b[1;33m\u001b[0m\u001b[0m\n\u001b[1;32m---> 16\u001b[1;33m \u001b[1;32mif\u001b[0m \u001b[1;34m'nebukadneza'\u001b[0m \u001b[1;32min\u001b[0m \u001b[0mone_words\u001b[0m\u001b[1;33m:\u001b[0m\u001b[1;33m\u001b[0m\u001b[1;33m\u001b[0m\u001b[0m\n\u001b[0m\u001b[0;32m     17\u001b[0m     \u001b[0mprint\u001b[0m\u001b[1;33m(\u001b[0m\u001b[1;34m\"Oops Yes!\"\u001b[0m\u001b[1;33m)\u001b[0m\u001b[1;33m\u001b[0m\u001b[1;33m\u001b[0m\u001b[0m\n\u001b[0;32m     18\u001b[0m \u001b[1;32melse\u001b[0m\u001b[1;33m:\u001b[0m\u001b[1;33m\u001b[0m\u001b[1;33m\u001b[0m\u001b[0m\n",
      "\u001b[1;31mNameError\u001b[0m: name 'one_words' is not defined"
     ]
    }
   ],
   "source": [
    "ones_words=[]\n",
    "ones_words_and_freq=[]\n",
    "\n",
    "for word,syllable in x_list:\n",
    "    if syllable in ones:\n",
    "        ones_words.append(word)\n",
    "        \n",
    "for word, freq in y_list:\n",
    "    if word in ones_words:\n",
    "        x= (word,freq)\n",
    "        ones_words_and_freq.append(x)\n",
    "        \n",
    "print(len(ones_words_and_freq))#23750\n",
    "ones_words_and_freq[:10]\n",
    "\n",
    "\n"
   ]
  },
  {
   "cell_type": "code",
   "execution_count": 38,
   "metadata": {},
   "outputs": [
    {
     "name": "stdout",
     "output_type": "stream",
     "text": [
      "Oops Yes!\n"
     ]
    }
   ],
   "source": [
    "if 'nebukadneza' in ones_words:\n",
    "    print(\"Oops Yes!\")\n",
    "else:\n",
    "    print(\" Nope, you good \")"
   ]
  },
  {
   "cell_type": "code",
   "execution_count": 18,
   "metadata": {},
   "outputs": [
    {
     "data": {
      "image/png": "[encoded data removed]",
      "text/plain": [
       "<Figure size 432x288 with 1 Axes>"
      ]
     },
     "metadata": {
      "needs_background": "light"
     },
     "output_type": "display_data"
    },
    {
     "data": {
      "text/plain": [
       "['jizọs',\n",
       " 'kraịst',\n",
       " 'baịbụl',\n",
       " 'pọl',\n",
       " 'izrel',\n",
       " 'setan',\n",
       " 'devid',\n",
       " 'jisọs',\n",
       " 'mozis',\n",
       " 'jọn']"
      ]
     },
     "execution_count": 18,
     "metadata": {},
     "output_type": "execute_result"
    }
   ],
   "source": [
    "import matplotlib.pyplot as plt\n",
    "\n",
    "data = zero_words_and_freq[:20]\n",
    "#data = zero_words_and_freq\n",
    "\n",
    "# Sort the data in descending order by rank\n",
    "data.sort(key=lambda x: x[1], reverse=True)\n",
    "\n",
    "# Extract the words and ranks\n",
    "words = [item[0] for item in data]\n",
    "ranks = [item[1] for item in data]\n",
    "\n",
    "#\"\"\"\n",
    "# Create the horizontal bar plot\n",
    "plt.barh(range(len(words)), ranks, align='center')\n",
    "plt.yticks(range(len(words)), words)\n",
    "plt.xlabel('Frequency')\n",
    "plt.ylabel('Words')\n",
    "plt.title('Word Ranks')\n",
    "\n",
    "# Reverse the y-axis to display the highest rank word at the top\n",
    "plt.gca().invert_yaxis()\n",
    "\n",
    "plt.show()\n",
    "#\"\"\"\n",
    "\n",
    "words[:10] \n",
    "#sum(ranks) # total count of words that are in the non-conforming group "
   ]
  },
  {
   "cell_type": "code",
   "execution_count": 19,
   "metadata": {},
   "outputs": [
    {
     "data": {
      "text/plain": [
       "['na',\n",
       " 'ndị',\n",
       " 'ihe',\n",
       " 'ọ',\n",
       " 'ya',\n",
       " 'ka',\n",
       " 'ha',\n",
       " 'anyị',\n",
       " 'a',\n",
       " 'nke',\n",
       " 'ahụ',\n",
       " 'dị',\n",
       " 'ma',\n",
       " 'bụ',\n",
       " 'ga',\n",
       " 'm',\n",
       " 'ike',\n",
       " 'e',\n",
       " 'onye',\n",
       " 'o']"
      ]
     },
     "execution_count": 19,
     "metadata": {},
     "output_type": "execute_result"
    }
   ],
   "source": [
    "import matplotlib.pyplot as plt\n",
    "\n",
    "#data = ones_words_and_freq[:20]\n",
    "data = ones_words_and_freq\n",
    "\n",
    "# Sort the data in descending order by rank\n",
    "data.sort(key=lambda x: x[1], reverse=True)\n",
    "\n",
    "# Extract the words and ranks\n",
    "words = [item[0] for item in data]\n",
    "ranks = [item[1] for item in data]\n",
    "\n",
    "\"\"\"\n",
    "# Create the horizontal bar plot\n",
    "plt.barh(range(len(words)), ranks, align='center')\n",
    "plt.yticks(range(len(words)), words)\n",
    "plt.xlabel('Frequency')\n",
    "plt.ylabel('Words')\n",
    "plt.title('Word Ranks')\n",
    "\n",
    "# Reverse the y-axis to display the highest rank word at the top\n",
    "plt.gca().invert_yaxis()\n",
    "\n",
    "plt.show()\n",
    "\"\"\"\n",
    "\n",
    "#ranks[:10]\n",
    "#sum(ranks) # total count of words that are in the conform group\n",
    "words[:10]\n",
    "\n",
    "\"\"\"\n",
    "z= '\\n'.join(words)\n",
    "\n",
    "file= open(\"Igbo_for_ms_chi_chi.txt\",'w+',encoding='utf8')\n",
    "file.write('\\n'.join(words))\n",
    "\n",
    "len(words)\n",
    "\"\"\"\n",
    "words[:20]"
   ]
  },
  {
   "cell_type": "code",
   "execution_count": 20,
   "metadata": {},
   "outputs": [
    {
     "name": "stdout",
     "output_type": "stream",
     "text": [
      "  Unique Words in Syllabic Structure Categories  Count  percentage %\n",
      "0                                do not conform    763           4.0\n",
      "1                                       Conform  16851          96.0\n"
     ]
    }
   ],
   "source": [
    "import pandas as pd\n",
    "\n",
    "data = { 'Unique Words in Syllabic Structure Categories':['do not conform','Conform'], 'Count':[len(zero_words_and_freq),len(ones_words_and_freq)]\n",
    "}\n",
    "\n",
    "df = pd.DataFrame(data)\n",
    "#print(df)\n",
    "df['percentage %']= round(df['Count']/df['Count'].sum(),2)*100\n",
    "print(df)"
   ]
  },
  {
   "cell_type": "code",
   "execution_count": 21,
   "metadata": {},
   "outputs": [
    {
     "data": {
      "image/png": "[encoded data removed]",
      "text/plain": [
       "<Figure size 432x288 with 1 Axes>"
      ]
     },
     "metadata": {},
     "output_type": "display_data"
    }
   ],
   "source": [
    "# Plotting the PIE chart\n",
    "plt.pie(df['percentage %'], labels=df['Unique Words in Syllabic Structure Categories'], autopct='%1.1f%%')\n",
    "plt.axis('equal')  # Equal aspect ratio ensures that pie is drawn as a circle\n",
    "plt.title('Unique Words in Syllabic Structure Categories\\n\\n')\n",
    "\n",
    "# Display the chart\n",
    "plt.show()"
   ]
  },
  {
   "cell_type": "code",
   "execution_count": 22,
   "metadata": {},
   "outputs": [
    {
     "name": "stdout",
     "output_type": "stream",
     "text": [
      "Count of all words in corpus that conform 5660773 while those that dont conform 100053\n",
      "The not conform:conform ration is 1.77%\n",
      "\n",
      "\n",
      "\n"
     ]
    },
    {
     "data": {
      "image/png": "[encoded data removed]",
      "text/plain": [
       "<Figure size 432x288 with 1 Axes>"
      ]
     },
     "metadata": {},
     "output_type": "display_data"
    }
   ],
   "source": [
    "import matplotlib.pyplot as plt\n",
    "\n",
    "\n",
    "data1 = zero_words_and_freq\n",
    "\n",
    "# Sort the data in descending order by rank\n",
    "data1.sort(key=lambda x: x[1], reverse=True)\n",
    "\n",
    "# Extract the words and ranks\n",
    "words1 = [item[0] for item in data1]\n",
    "ranks1 = [item[1] for item in data1]\n",
    "\n",
    "\n",
    "\n",
    "data2 = ones_words_and_freq\n",
    "\n",
    "# Sort the data in descending order by rank\n",
    "data2.sort(key=lambda x: x[1], reverse=True)\n",
    "\n",
    "# Extract the words and ranks\n",
    "words2 = [item[0] for item in data2]\n",
    "ranks2 = [item[1] for item in data2]\n",
    "\n",
    "\n",
    "\n",
    "\n",
    "\n",
    "#ranks[:10] \n",
    "#sum(ranks) # total count of words that are in the non-conforming group \n",
    "\n",
    "#ranks[:10]\n",
    "#sum(ranks) # total count of words that are in the conform group\n",
    "\n",
    "print(f\"Count of all words in corpus that conform {sum(ranks2)} while those that dont conform {sum(ranks1)}\\nThe not conform:conform ration is {round((sum(ranks1)/sum(ranks2))*100,2)}%\\n\\n\\n\")\n",
    "\n",
    "\n",
    "\n",
    "\n",
    "\n",
    "import pandas as pd\n",
    "\n",
    "data = { 'All Words in Syllabic Structure Categories':['do not conform','Conform'], 'Count':[sum(ranks1),sum(ranks2)]\n",
    "}\n",
    "\n",
    "df = pd.DataFrame(data)\n",
    "#print(df)\n",
    "df['percentage %']= round(df['Count']/df['Count'].sum(),2)*100\n",
    "#print(df)\n",
    "\n",
    "# Plotting the PIE chart\n",
    "plt.pie(df['percentage %'], labels=df['All Words in Syllabic Structure Categories'], autopct='%1.1f%%')\n",
    "plt.axis('equal')  # Equal aspect ratio ensures that pie is drawn as a circle\n",
    "plt.title('All Words in Syllabic Structure Categories\\n\\n')\n",
    "\n",
    "# Display the chart\n",
    "plt.show()\n",
    "\n",
    "# Just 3% of all the total individual words in the dataset do not conform"
   ]
  },
  {
   "cell_type": "code",
   "execution_count": 23,
   "metadata": {
    "scrolled": true
   },
   "outputs": [],
   "source": [
    "# Identifying words in my data that need to removed\n",
    "zeros_words\n",
    "\n",
    "zeros_words_coll = \"\\n\".join(zeros_words)"
   ]
  },
  {
   "cell_type": "code",
   "execution_count": 24,
   "metadata": {},
   "outputs": [],
   "source": [
    "file= open('words_tbr_python.txt', 'w+', encoding='utf8')\n",
    "file.write(zeros_words_coll)\n",
    "file.close()"
   ]
  },
  {
   "cell_type": "markdown",
   "metadata": {},
   "source": [
    "## Putting My Syllabicator in a GUI\n",
    "### Step 1 Make it convert sentences"
   ]
  },
  {
   "cell_type": "code",
   "execution_count": 25,
   "metadata": {},
   "outputs": [],
   "source": [
    "sent= \"Igbo bla bla bla\"\n",
    "\n",
    "def random(x):\n",
    "    if x == 'bla':\n",
    "        x= 'yes'\n",
    "    return x\n",
    "\n",
    "def my_sent(sent):\n",
    "    \n",
    "    sent= sent.split()\n",
    "    my_sent=''\n",
    "    #sent = input('Enter your Sentence:')\n",
    "    for word in sent:\n",
    "        my_sent= my_sent +' '+ random(word)\n",
    "        \n",
    "    return my_sent\n",
    "    \n",
    "    "
   ]
  },
  {
   "cell_type": "code",
   "execution_count": 26,
   "metadata": {},
   "outputs": [
    {
     "data": {
      "text/plain": [
       "' Igbo yes yes yes'"
      ]
     },
     "execution_count": 26,
     "metadata": {},
     "output_type": "execute_result"
    }
   ],
   "source": [
    "my_sent(sent)"
   ]
  },
  {
   "cell_type": "code",
   "execution_count": 27,
   "metadata": {},
   "outputs": [],
   "source": [
    "def syllabic_structure(sent):\n",
    "    \n",
    "    sent= sent.split() # Add error handling here also # Add cleaning of the sentence or something to ensure that the sentence that gets here is Igbo\n",
    "\n",
    "    consonants= ['b','c','d','f','g','h','j','k','l','m','n','p','r','s','t','v','w','y','z','C','N']\n",
    "    consonants2= ['b','c','d','f','g','h','j','k','l','m','n','p','r','s','t','v','w','y','z']\n",
    "\n",
    "\n",
    "    # Compute Word Frequencies\n",
    "    #word_freq = Counter(corpus)\n",
    "    # Rank the Words\n",
    "    #ranked_words = sorted(word_freq.items(), key=lambda x: x[1], reverse=True)\n",
    "    #corpus= [x for x, y in ranked_words]\n",
    "\n",
    "    #corpus = ['nemeka','banyere','nelu','josh','mkpa','akpa','akụ', 'alụ', 'ogwe', 'okwukwe', 'nwa', 'ife', 'ifee', 'ọfọ']\n",
    "    #corpus = ['nemeka','chidinma','nelu','nyem','amarachi']\n",
    "\n",
    "    # digraphs ch, gb, gh, gw, kp, kw, nw, ny, sh,\n",
    "\n",
    "\n",
    "    vocab_struc= []\n",
    "    x= ''\n",
    "\n",
    "    for word in sent:\n",
    "\n",
    "        #print (word)\n",
    "\n",
    "        x = ''\n",
    "\n",
    "        i = 0\n",
    "        while i < len(word):\n",
    "            if i != len(word) - 1:\n",
    "                if word[i:i+2] == 'ch':\n",
    "                    x += 'C'\n",
    "                    i += 2\n",
    "                    continue\n",
    "\n",
    "                elif word[i:i+2] == 'gb':\n",
    "                    x += 'C'\n",
    "                    i += 2\n",
    "                    continue\n",
    "\n",
    "                elif word[i:i+2] == 'gh':\n",
    "                    x += 'C'\n",
    "                    i += 2\n",
    "                    continue\n",
    "\n",
    "                elif word[i:i+2] == 'gw':\n",
    "                    x += 'C'\n",
    "                    i += 2\n",
    "                    continue\n",
    "\n",
    "                elif word[i:i+2] == 'kp':\n",
    "                    x += 'C'\n",
    "                    i += 2\n",
    "                    continue\n",
    "\n",
    "                elif word[i:i+2] == 'kw':\n",
    "                    x += 'C'\n",
    "                    i += 2\n",
    "                    continue\n",
    "\n",
    "                elif word[i:i+2] == 'nw':\n",
    "                    x += 'C'\n",
    "                    i += 2\n",
    "                    continue\n",
    "\n",
    "                elif word[i:i+2] == 'ny':\n",
    "                    x += 'C'\n",
    "                    i += 2\n",
    "                    continue\n",
    "\n",
    "                elif word[i:i+2] == 'sh':\n",
    "                    x += 'C'\n",
    "                    i += 2\n",
    "                    continue\n",
    "\n",
    "            x += word[i]\n",
    "            i += 1\n",
    "\n",
    "            #print(word)\n",
    "\n",
    "        if len(word) > 2:\n",
    "            if x != '':\n",
    "\n",
    "                for i in range(len(x)):\n",
    "\n",
    "                    if i == len(x)-1 and x[i]== 'm':\n",
    "                        x= x.replace(x[i],'N',1)\n",
    "\n",
    "                    if (i == 0 or i != len(x)-1) and (x[i]== 'm' or x[i]=='n') and x[i+1] in consonants:\n",
    "                        x= x.replace(x[i],'N',1)                \n",
    "\n",
    "                    elif (i == 0 or i != len(x)-1) and (x[i]== 'm' or x[i]=='n'):\n",
    "                        x= x.replace(x[i],'C',1)\n",
    "            else:\n",
    "\n",
    "                for i in range(len(word)):\n",
    "                    \n",
    "                    if i == len(word)-1 and word[i]== 'm':\n",
    "                        word= word.replace(word[i],'N',1)\n",
    "\n",
    "                    elif (i == 0 or i != len(word)-1) and (word[i]== 'm' or word[i]=='n') and word[i+1] in consonants:\n",
    "                        word= word.replace(word[i],'N',1)\n",
    "\n",
    "                    elif (i == 0 or i != len(word)-1) and (word[i]== 'm' or word[i]=='n'):\n",
    "                        word= word.replace(word[i],'C',1)\n",
    "\n",
    "        if x != '':\n",
    "\n",
    "            for i in range(len(x)): \n",
    "\n",
    "                if x[i] not in consonants:\n",
    "                    #word[i]= \"V\"\n",
    "                    x= x.replace(x[i],'V')\n",
    "\n",
    "            for i in range(len(x)): \n",
    "\n",
    "                if x[i] in consonants2:\n",
    "                    #word[i]= \"V\"\n",
    "                    x= x.replace(x[i],'C')\n",
    "\n",
    "            vocab_struc.append(x)\n",
    "\n",
    "        else:\n",
    "            for i in range(len(word)): \n",
    "\n",
    "                if word[i] not in consonants:\n",
    "                    #word[i]= \"V\"\n",
    "                    word= word.replace(word[i],'V')\n",
    "\n",
    "            for i in range(len(word)): \n",
    "\n",
    "                if word[i] in consonants2:\n",
    "                    #word[i]= \"V\"\n",
    "                    word= word.replace(word[i],'C')\n",
    "\n",
    "            vocab_struc.append(word)\n",
    "\n",
    "\n",
    "    return ' '.join(vocab_struc),list(zip(sent,vocab_struc))\n",
    "\n",
    "    "
   ]
  },
  {
   "cell_type": "code",
   "execution_count": 28,
   "metadata": {
    "scrolled": true
   },
   "outputs": [
    {
     "data": {
      "text/plain": [
       "[('abum', 'VCVN'), ('ezigbo', 'VCVCV'), ('nwa', 'CV'), ('nwoke', 'CVCV')]"
      ]
     },
     "execution_count": 28,
     "metadata": {},
     "output_type": "execute_result"
    }
   ],
   "source": [
    "sentence= \"abum ezigbo nwa nwoke\"\n",
    "\n",
    "sent,lst = syllabic_structure(sentence)\n",
    "sent\n",
    "lst # Another functionality you can add to this is to put in this, is to allow people search for a word in their sentence and then get the key. ofcourse make this list a unique list\n"
   ]
  },
  {
   "cell_type": "markdown",
   "metadata": {},
   "source": [
    "### Mrs CHI CHI dataset"
   ]
  },
  {
   "cell_type": "code",
   "execution_count": 29,
   "metadata": {},
   "outputs": [
    {
     "name": "stdout",
     "output_type": "stream",
     "text": [
      "['ozi', 'nro', 'see', 'adụ', 'isi', 'jee', 'ihi', 'esó', 'ọlị', 'ụtụ', 'ewa', 'ntì', 'ọsa', 'òkè', 'ịlụ', 'alụ', 'ide', 'uto', 'aro', 'agụ', 'nso', 'afọ', 'ịnọ', 'ntụ', 'aba', 'rịọ', 'ịnụ', 'ụjọ', 'ụja', 'ebe', 'kwe', 'udu', 'nha', 'ụmụ', 'ọjà', 'osu', 'óbó', 'iyi', 'itu', 'lia', 'opì', 'mbé', 'ụba', 'awó', 'ubí', 'ịṅa', 'eke', 'ịmụ', 'ewu', 'ọgụ', 'nne', 'ọfọ', 'iko', 'àgà', 'ibè', 'nkụ', 'mbụ', 'ébé', 'ịza', 'ohu', 'amanyekwala', 'akwafe', 'wekọrọ', 'aṅụrịkọ', 'kepu', 'iche', 'gọziri', 'rusịrị', 'ịgbalịsikwu', 'tụliri', 'gbasoro', 'drọwa', 'gaziiri', 'abaịja', 'inwogha', 'yorkshire', 'nkịkara', 'ịchịsa', 'nụụrụ', 'gafechara', 'alekzanda', 'họpụtakwara', 'nàkwá', 'ọnụnụ', 'ibido', 'stockholm', 'lana', 'ịtụchasị', 'ehihie', 'edugakwa', 'echebekwa', 'agbakọọ', 'profesọ', 'nenwekwaghị', 'kpakọọ', 'arụzie', 'ekwetaghị', 'eburula', 'ọgwụgwọ', 'asụpe', 'arakwa', 'nugbo', 'tamara', 'mmetụta', 'kpachaghị', 'ịdịrịta', 'atụkwasịnụ', 'adabakwa', 'amụbakwu', 'laghachikwuru', 'ịdịwa', 'sapere', 'dhaka', 'nute', 'rudi', 'gbakụọ', 'anna', 'hezekaịa', 'ákwá', 'tinyejuru', 'eleba', 'agarịrị', 'kwubiri', 'judia', 'amụchi', 'mahadum', 'nịlaghachi', 'egosidị', 'bibichara', 'niwuli', 'tetanụ', 'emesi', 'iruchi', 'nịdị', 'nagụmakwụkwọ', 'wepụsịrị', 'ịrụnye', 'baptizim', 'nọhụụ', 'ketanụ', 'hụnụ', 'chọpụtachara', 'iṅomi', 'ejughị', 'ezitewo', 'joseba', 'adịbeghịkwa', 'ọlaedo', 'marthe', 'agụpụta', 'emehiekwa', 'rụlie', 'bịakwala', 'akịdị', 'sicha', 'chụghị', 'lụchaa', 'thutmose', 'kponye', 'nikwutọ', 'inyochagharị', 'azọpụtalighị', 'mesọpotemia', 'hilvasọm', 'anọkwasị', 'atụghị', 'atụnye', 'kpọnwụrụ', 'niguzosi', 'geenụ', 'ngafe', 'ekli', 'mbibi', 'tiruchchirappalli', 'emechaziri', 'kenyeghị', 'nhụpere', 'echukwa', 'nọvemba', 'ewutekarị', 'michèle', 'nụka', 'itinyewe', 'adọwa', 'nilezi', 'nwarala', 'jupita', 'zughị', 'jichie', 'arụsikwa', 'malitewokwa', 'kwanyere', 'ejiwo', 'batakwara', 'elegharawo', 'luccioni', 'ichebasiri', 'ịmụchi', 'adaka', 'ahọrọkarị', 'gụzie', 'achọrịrị', 'tụleedị', 'nịṅụ', 'bukwara', 'latina', 'elekwasịzi', 'bụnụ', 'connie', 'egbugwara', 'teza', 'kọwakwaara', 'ijedebe', 'mariamma', 'mgbaàmà', 'gbochie', 'mecharala', 'edetara', 'zazie', 'nọworị', 'echegharịghị', 'kwuchara', 'shaịna', 'emesapụkwa', 'ekwesịghịdị', 'inwekọ', 'jikerela', 'nzere', 'pennsylvania', 'gbalịakwa', 'sladjana', 'ịmalitekwa', 'abịaghị', 'nịtụleghachi', 'alfọnso', 'santa', 'uraịa', 'zuola', 'felicia', 'nyịgbuo', 'agazu', 'nagbanyeghị', 'chụtuo', 'deghị', 'renee', 'mehiela', 'úgwù', 'dịkọtara', 'ịfọdụ', 'arụwa', 'dura', 'usekwu', 'nịgụ', 'bọpụtara', 'amatakwa', 'etidasị', 'afọdụghị', 'mesighachiri', 'ekwesi', 'ebipụtakọ', 'doola', 'lụsoo', 'gwọọkwa', 'ịkpọasị', 'mụkwuo', 'gọzisịworo', 'donna', 'ekpekwara', 'tụleenụ', 'lesotho', 'nowu', 'mabu', 'eṅomikwa', 'dịghịrị', 'nimekpa', 'odide', 'laruru', 'mbinye', 'sakwuo', 'ịbịakọta', 'idetụ', 'setịpụ', 'nịnọpụ', 'ịghọwo', 'anọnyereghị', 'nasụsụ', 'traịfosa', 'mgbukpọ', 'amalikwanụ', 'agbagote', 'tisasịrị', 'oruru', 'egwu', 'nyadoro', 'nọkara', 'kparịa', 'búzi', 'enyewokwa', 'mụjuo', 'amalitere']\n"
     ]
    }
   ],
   "source": [
    "import pandas as pd\n",
    "import random\n",
    "\n",
    "# Given list of Igbo words\n",
    "igbo_words = ['na', 'ndị', 'ihe', 'ọ', 'ya', 'ka', 'ha', 'anyị', 'a', 'nke', 'ahụ', 'dị', 'ma', 'bụ', 'ga', 'm', 'ike', 'e', 'onye', 'o']\n",
    "file = open(\"igbo_for_ms_chi_chi.txt\", encoding='utf8')\n",
    "file= file.read()\n",
    "file= file.split('\\n')\n",
    "igbo_words =file\n",
    "\n",
    "\n",
    "\n",
    "# Remove single-letter words from the list\n",
    "filtered_words = [word for word in igbo_words if len(word) > 2]\n",
    "\n",
    "# Shuffle the list\n",
    "random.shuffle(filtered_words)\n",
    "\n",
    "# Calculate the desired count of three-letter and four-or-more-letter words\n",
    "total_words = 300\n",
    "num_three_letter = int(total_words * 0.2)\n",
    "num_four_or_more_letter = total_words - num_three_letter\n",
    "\n",
    "# Select words for the final list\n",
    "#final_words = filtered_words[:num_three_letter] + [word for word in filtered_words[num_three_letter:] if len(word) >= 4]\n",
    "\n",
    "# Select words for the final list\n",
    "three_letter_words = [word for word in filtered_words if len(word) == 3][:num_three_letter]\n",
    "four_or_more_letter_words = [word for word in filtered_words if len(word) >= 4][:num_four_or_more_letter]\n",
    "final_words = three_letter_words + four_or_more_letter_words\n",
    "\n",
    "print(final_words)\n",
    "\n",
    "# Create a DataFrame\n",
    "data = pd.DataFrame({'Igbo Words': final_words})\n",
    "\n",
    "# Export DataFrame to an Excel file\n",
    "excel_filename = 'igbo_words.xlsx'\n",
    "data.to_excel(excel_filename, index=False)\n"
   ]
  },
  {
   "cell_type": "code",
   "execution_count": 30,
   "metadata": {},
   "outputs": [],
   "source": [
    "def syllabic_structure(sent):\n",
    "    mappings = {'ch': 'C', 'gb': 'C', 'gh': 'C', 'gw': 'C', 'kp': 'C', 'kw': 'C', 'nw': 'C', 'ny': 'C', 'sh': 'C'}\n",
    "    consonants = set(['b','c','d','f','g','h','j','k','l','m','n','p','r','s','t','v','w','y','z', 'C', 'N'])\n",
    "    result = []\n",
    "    for word in sent.split():\n",
    "        x = ''.join([mappings.get(word[i:i+2], c) if i < len(word) - 1 else c for i, c in enumerate(word)])\n",
    "        x = ''.join(['N' if (c == 'm' or c == 'n') and (i == len(x) - 1 or x[i+1] in consonants) else 'C' if c == 'm' or c == 'n' else c for i, c in enumerate(x)])\n",
    "        x = ''.join(['V' if c not in consonants else 'C' if c in 'bcdfghjklmnpqrstvwyz' else 'N' for c in x])\n",
    "        result.append(x)\n",
    "    return ' '.join(result), list(zip(sent.split(), result))\n"
   ]
  },
  {
   "cell_type": "code",
   "execution_count": 31,
   "metadata": {},
   "outputs": [
    {
     "data": {
      "text/plain": [
       "('VNCV', [('igbo', 'VNCV')])"
      ]
     },
     "execution_count": 31,
     "metadata": {},
     "output_type": "execute_result"
    }
   ],
   "source": [
    "x= \"igbo\"\n",
    "syllabic_structure(x)"
   ]
  },
  {
   "cell_type": "code",
   "execution_count": null,
   "metadata": {},
   "outputs": [],
   "source": []
  }
 ],
 "metadata": {
  "kernelspec": {
   "display_name": "Python 3 (ipykernel)",
   "language": "python",
   "name": "python3"
  },
  "language_info": {
   "codemirror_mode": {
    "name": "ipython",
    "version": 3
   },
   "file_extension": ".py",
   "mimetype": "text/x-python",
   "name": "python",
   "nbconvert_exporter": "python",
   "pygments_lexer": "ipython3",
   "version": "3.11.4"
  }
 },
 "nbformat": 4,
 "nbformat_minor": 4
}
